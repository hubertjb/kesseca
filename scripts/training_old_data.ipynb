{
 "cells": [
  {
   "cell_type": "markdown",
   "metadata": {},
   "source": [
    "# Training left vs. right classifier\n",
    "\n",
    "1. Load data and add labels\n",
    "3. Preprocess text\n",
    "4. Extract features\n",
    "5. Divide into training and testing sets\n",
    "6. Train model on training set\n",
    "7. Test model on testing set\n",
    "8. Save best model"
   ]
  },
  {
   "cell_type": "markdown",
   "metadata": {},
   "source": [
    "## 1. Load data and add labels"
   ]
  },
  {
   "cell_type": "code",
   "execution_count": 78,
   "metadata": {},
   "outputs": [],
   "source": [
    "import glob\n",
    "import os\n",
    "import codecs\n",
    "import json \n",
    "\n",
    "from joblib import Parallel, delayed\n",
    "import numpy as np\n",
    "import pandas as pd\n",
    "import seaborn as sns\n",
    "import matplotlib.pyplot as plt\n",
    "%matplotlib inline"
   ]
  },
  {
   "cell_type": "code",
   "execution_count": null,
   "metadata": {},
   "outputs": [],
   "source": [
    "folderpath = '/home/hubert/Documents/kesseca/data/outlets_27_plus'\n",
    "filepaths = glob.glob(os.path.join(folderpath, '*.json'))"
   ]
  },
  {
   "cell_type": "code",
   "execution_count": 48,
   "metadata": {},
   "outputs": [],
   "source": [
    "# Political spectrum labels\n",
    "political_labels = {\"abc-news\": 3,\n",
    "                    \"al-jazeera-english\": 3,\n",
    "                    \"associated-press\": 3,\n",
    "                    \"axios\": 3,\n",
    "                    \"bbc-news\": 3,\n",
    "                    \"bloomberg\": 3,\n",
    "                    \"breitbart-news\": 5,\n",
    "                    \"breitbard-news\": 5,\n",
    "                    \"business-insider\": 3,\n",
    "                    \"cnbc\": 3,\n",
    "                    \"cnn\": 3,\n",
    "                    \"fox-news\": 4,\n",
    "                    \"msnbc\": 1,\n",
    "                    \"nbc-news\": 3,\n",
    "                    \"newsweek\": 2,\n",
    "                    \"new-york-magazine\": 1,\n",
    "                    \"politico\": 2,\n",
    "                    \"reuters\": 3,\n",
    "                    \"the-economist\": 2,\n",
    "                    \"the-guardian-uk\": 2,\n",
    "                    \"the-hill\": 3,\n",
    "                    \"the-new-york-times\": 2,\n",
    "                    \"the-huffington-post\": 2,\n",
    "                    \"the-telegraph\": 4,\n",
    "                    \"the-wall-street-journal\": 3,\n",
    "                    \"the-washington-post\": 2,\n",
    "                    \"the-washinton-post\": 2,\n",
    "                    \"time\": 1,\n",
    "                    \"usa-today\": 3,\n",
    "                    \"vice-news\": 1,\n",
    "                    \"cbs-news\": 3,\n",
    "                    \"google-news\": 3}"
   ]
  },
  {
   "cell_type": "code",
   "execution_count": 49,
   "metadata": {},
   "outputs": [],
   "source": [
    "# Load the JSON files\n",
    "data = []\n",
    "\n",
    "for path in filepaths:\n",
    "    with codecs.open(path, 'r', encoding='utf8') as f:\n",
    "        data.append(json.load(f))"
   ]
  },
  {
   "cell_type": "code",
   "execution_count": 50,
   "metadata": {},
   "outputs": [],
   "source": [
    "file_origin = [f.split('/')[-1][:-5] for f in filepaths]"
   ]
  },
  {
   "cell_type": "code",
   "execution_count": 51,
   "metadata": {},
   "outputs": [],
   "source": [
    "# Put in a simpler format\n",
    "labels_political = []\n",
    "labels_location = []\n",
    "articles = []\n",
    "\n",
    "for origin, outlet in zip(file_origin, data):\n",
    "    for article in outlet['articles']['results']:\n",
    "        try:\n",
    "            labels_political.append(political_labels[origin])\n",
    "            labels_location.append(article['source']['location']['label']['eng'])\n",
    "            articles.append(article['body'])\n",
    "        except:\n",
    "            print('Failed: ' + origin)"
   ]
  },
  {
   "cell_type": "code",
   "execution_count": 54,
   "metadata": {},
   "outputs": [
    {
     "name": "stderr",
     "output_type": "stream",
     "text": [
      "/home/hubert/.pyenv/versions/3.5.1/envs/kesseca/lib/python3.5/site-packages/matplotlib/axes/_axes.py:6462: UserWarning: The 'normed' kwarg is deprecated, and has been replaced by the 'density' kwarg.\n",
      "  warnings.warn(\"The 'normed' kwarg is deprecated, and has been \"\n"
     ]
    },
    {
     "data": {
      "text/plain": [
       "<matplotlib.axes._subplots.AxesSubplot at 0x7fcd3dd28780>"
      ]
     },
     "execution_count": 54,
     "metadata": {},
     "output_type": "execute_result"
    },
    {
     "data": {
      "image/png": "[encoded data removed]",
      "text/plain": [
       "<Figure size 432x288 with 1 Axes>"
      ]
     },
     "metadata": {},
     "output_type": "display_data"
    }
   ],
   "source": [
    "sns.distplot(labels_political, kde=False)"
   ]
  },
  {
   "cell_type": "code",
   "execution_count": 57,
   "metadata": {},
   "outputs": [
    {
     "data": {
      "text/plain": [
       "{'Arlington, Texas',\n",
       " 'Atlanta, Georgia',\n",
       " 'London',\n",
       " 'Los Angeles',\n",
       " 'McLean, Virginia',\n",
       " 'New Jersey',\n",
       " 'New York',\n",
       " 'New York City',\n",
       " 'United States',\n",
       " 'Washington (state)'}"
      ]
     },
     "execution_count": 57,
     "metadata": {},
     "output_type": "execute_result"
    }
   ],
   "source": [
    "set(labels_location)"
   ]
  },
  {
   "cell_type": "markdown",
   "metadata": {},
   "source": [
    "## 2. Preprocess text"
   ]
  },
  {
   "cell_type": "code",
   "execution_count": 95,
   "metadata": {},
   "outputs": [],
   "source": [
    "from sklearn.feature_extraction import text\n",
    "\n",
    "\n",
    "count_vect = text.CountVectorizer(stop_words='english')\n",
    "counts = count_vect.fit_transform(articles)\n",
    "\n",
    "tfidf_transformer = text.TfidfTransformer(sublinear_tf=True)\n",
    "tfidf_data = tfidf_transformer.fit_transform(counts).todense()"
   ]
  },
  {
   "cell_type": "code",
   "execution_count": 110,
   "metadata": {},
   "outputs": [],
   "source": [
    "from sklearn.linear_model import LogisticRegression\n",
    "from sklearn.model_selection import cross_val_score\n",
    "\n",
    "lr = LogisticRegression(class_weight='balanced')"
   ]
  },
  {
   "cell_type": "code",
   "execution_count": 111,
   "metadata": {},
   "outputs": [],
   "source": [
    "# Just keep extreme examples\n",
    "y = np.array(labels_political)\n",
    "\n",
    "X = tfidf_data[(y < 2) | (y > 4)]\n",
    "y = y[(y < 2) | (y > 4)]\n",
    "\n",
    "y[y < 3] = 0\n",
    "y[y > 3] = 1"
   ]
  },
  {
   "cell_type": "code",
   "execution_count": 112,
   "metadata": {},
   "outputs": [],
   "source": [
    "from sklearn.model_selection import train_test_split\n",
    "\n",
    "X_train, X_test, y_train, y_test = train_test_split(\n",
    "    X, y, random_state=0, shuffle=True)\n",
    "\n",
    "lr.fit(X_train, y_train)\n",
    "y_pred = lr.predict(X_test)"
   ]
  },
  {
   "cell_type": "code",
   "execution_count": 113,
   "metadata": {},
   "outputs": [
    {
     "data": {
      "image/png": "[encoded data removed]",
      "text/plain": [
       "<Figure size 720x720 with 2 Axes>"
      ]
     },
     "metadata": {},
     "output_type": "display_data"
    }
   ],
   "source": [
    "from sklearn.metrics import confusion_matrix\n",
    "\n",
    "conf_mat = confusion_matrix(y_test, y_pred)\n",
    "fig, ax = plt.subplots(figsize=(10, 10))\n",
    "sns.heatmap(conf_mat, annot=True, fmt='d')\n",
    "#             xticklabels=category_id_df.Product.values, yticklabels=category_id_df.Product.values)\n",
    "plt.ylabel('Actual')\n",
    "plt.xlabel('Predicted')\n",
    "plt.show()"
   ]
  },
  {
   "cell_type": "code",
   "execution_count": 116,
   "metadata": {},
   "outputs": [
    {
     "data": {
      "text/plain": [
       "0.8640000000000001"
      ]
     },
     "execution_count": 116,
     "metadata": {},
     "output_type": "execute_result"
    }
   ],
   "source": [
    "accuracies = cross_val_score(lr, X, y, scoring='accuracy', cv=5)\n",
    "np.mean(accuracies)"
   ]
  }
 ],
 "metadata": {
  "kernelspec": {
   "display_name": "Python 3",
   "language": "python",
   "name": "python3"
  },
  "language_info": {
   "codemirror_mode": {
    "name": "ipython",
    "version": 3
   },
   "file_extension": ".py",
   "mimetype": "text/x-python",
   "name": "python",
   "nbconvert_exporter": "python",
   "pygments_lexer": "ipython3",
   "version": "3.5.1"
  }
 },
 "nbformat": 4,
 "nbformat_minor": 2
}
