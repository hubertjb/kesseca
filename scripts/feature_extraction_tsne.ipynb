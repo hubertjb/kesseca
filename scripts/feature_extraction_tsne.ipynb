{
 "cells": [
  {
   "cell_type": "markdown",
   "metadata": {},
   "source": [
    "# Extracting features from text file\n",
    "\n",
    "\n",
    "See https://towardsdatascience.com/document-feature-extraction-and-classification-53f0e813d2d3"
   ]
  },
  {
   "cell_type": "code",
   "execution_count": 1,
   "metadata": {},
   "outputs": [],
   "source": [
    "import spacy\n",
    "import textacy\n",
    "\n",
    "import numpy as np\n",
    "from sklearn.feature_extraction import text\n",
    "import seaborn as sns\n",
    "import matplotlib.pyplot as plt\n",
    "%matplotlib inline"
   ]
  },
  {
   "cell_type": "code",
   "execution_count": null,
   "metadata": {},
   "outputs": [],
   "source": [
    "content = \"\"\"That dirty tricks exist in the world of high-stakes politics will come as a surprise to few. Nonetheless, leaders of the global firm Cambridge Analytica captured headlines around the world this week as they breezily discussed the strategies for deception and manipulation of foreign elections on hidden cameras. Cambridge Analytica has been accused of improperly using information from more than 50 million Facebook accounts. The London-based company denies wrongdoing. Cambridge Analytica is best known for its work with Donald Trump's presidential election campaign in 2016. CEO Alexander Nix, unaware he was being recorded, claimed he'd met Trump \"many times\" in a bombshell undercover investigation broadcast Tuesday on Britain's Channel 4 news. A colleague also suggested they created damaging memes targeting Hillary Clinton during the election. Nix was suspended the day after the story aired. The investigation revealed that over the course of four meetings, the journalists used hidden cameras and microphones to record Nix and the company's managing director Mark Turnbull, as they discussed ways to secretly influence Sri Lanka's upcoming national election — something they claim they'd already done in Kenya in 2017.\"\"\"\n",
    "\n",
    "print(content)"
   ]
  },
  {
   "cell_type": "code",
   "execution_count": null,
   "metadata": {},
   "outputs": [],
   "source": [
    "metadata = {'title': 'How Cambridge Analytica stumbled into the spotlight',\n",
    "            'author': 'Diana Swain',\n",
    "            'pub_date': '2018-03-24'}"
   ]
  },
  {
   "cell_type": "markdown",
   "metadata": {},
   "source": [
    "## 1. Using spaCy and textaCy"
   ]
  },
  {
   "cell_type": "code",
   "execution_count": null,
   "metadata": {},
   "outputs": [],
   "source": [
    "doc = textacy.Doc(content, metadata=metadata, lang='en')\n",
    "print(doc)"
   ]
  },
  {
   "cell_type": "code",
   "execution_count": null,
   "metadata": {},
   "outputs": [],
   "source": [
    "doc.to_bag_of_terms(ngrams=2, named_entities=False, lemmatize=True, \n",
    "                    as_strings=True)"
   ]
  },
  {
   "cell_type": "code",
   "execution_count": null,
   "metadata": {},
   "outputs": [],
   "source": [
    "[i for i in textacy.extract.named_entities(doc)]"
   ]
  },
  {
   "cell_type": "markdown",
   "metadata": {},
   "source": [
    "## 2. Using sklearn"
   ]
  },
  {
   "cell_type": "code",
   "execution_count": null,
   "metadata": {},
   "outputs": [],
   "source": [
    "# Load example dataset\n",
    "categories = ['alt.atheism', 'soc.religion.christian',\n",
    "              'comp.graphics', 'sci.med']\n",
    "\n",
    "from sklearn.datasets import fetch_20newsgroups\n",
    "\n",
    "twenty_train = fetch_20newsgroups(subset='train',\n",
    "    categories=categories, shuffle=True, random_state=42)"
   ]
  },
  {
   "cell_type": "code",
   "execution_count": 16,
   "metadata": {},
   "outputs": [],
   "source": [
    "from sklearn.feature_extraction import text\n",
    "from sklearn.manifold import TSNE\n",
    "\n",
    "\n",
    "TSNE_ARGS = {'n_components': 2, \n",
    "             'verbose': 1, \n",
    "             'random_state':0, \n",
    "             'angle':.99,\n",
    "             'init': 'pca'}\n",
    "\n",
    "\n",
    "def fit_tsne_on_corpus(corpus, labels=None, tsne_args=TSNE_ARGS):\n",
    "    \"\"\"Fit t-SNE on a text corpus.\n",
    "    \n",
    "    Fit t-SNE on a text corpus.\n",
    "    The following steps are used:\n",
    "    1. Extract word count from each document of the corpus.\n",
    "    2. Transform word counts into tf-idf feature vectors.\n",
    "    3. (Optional) Add labels to the matrix.\n",
    "    4. Run t-SNE.\n",
    "    \n",
    "    Args:\n",
    "        corpus (list of str): list containing `n_docs` strings, where each \n",
    "            string is one document\n",
    "    \n",
    "    Keyword Args:\n",
    "        labels (np.ndarray): labels to include when running t-SNE. Provided as\n",
    "            array of shape (n_docs, n_labels) where each row contains the \n",
    "            labels for a specific document. Labels must be numerical values.  \n",
    "        tsne_args (dict): dictionary of arguments to pass to sklearn's\n",
    "            TSNE function.\n",
    "        \n",
    "    Returns:\n",
    "        (np.ndarray): array of shape (n_docs, 2) containing the t-SNE \n",
    "            coordinates for each document\n",
    "            \n",
    "    TODO:\n",
    "    - Extract better features than tf-idf\n",
    "    - Allow modifying t-SNE's hyperparameters\n",
    "    - Use different t-SNE backend for speed\n",
    "    \"\"\"\n",
    "    \n",
    "    assert isinstance(corpus, list)\n",
    "\n",
    "    count_vect = text.CountVectorizer()\n",
    "    counts = count_vect.fit_transform(corpus)\n",
    "    \n",
    "    tfidf_transformer = text.TfidfTransformer()\n",
    "    tfidf_data = tfidf_transformer.fit_transform(counts).todense()\n",
    "    \n",
    "    if labels is not None:\n",
    "        tfidf_data = np.concatenate([tfidf_data, labels], axis=1)\n",
    "\n",
    "    tsne_model = TSNE(**tsne_args)\n",
    "    tsne_coords = tsne_model.fit_transform(tfidf_data)\n",
    "    \n",
    "    return tsne_coords\n",
    "\n",
    "\n",
    "def plot_coords(coords, labels=None):\n",
    "    \"\"\"Plot coordinates with optional labels.\n",
    "    \n",
    "    Args:\n",
    "        coords (np.ndarray): array of shape (n_points, 2) containing the\n",
    "            coordinates of each point.\n",
    "            \n",
    "    Keyword Args:\n",
    "        labels (np.ndarray): array of shape (n_points,) containing a categorical\n",
    "            label or each point.\n",
    "    \"\"\"\n",
    "    \n",
    "    if labels is None:\n",
    "        labels = np.zeros((coords.shape[0], ))\n",
    "                \n",
    "    classes = np.unique(labels)\n",
    "    cm = sns.color_palette('hls', len(classes))\n",
    "    \n",
    "    fig, ax = plt.subplots()\n",
    "    \n",
    "    for i, c in enumerate(classes):\n",
    "        print('Class {}'.format(c))\n",
    "        ind = labels == c\n",
    "        ax.scatter(coords[ind, 0], coords[ind, 1], s=5, \n",
    "                   color=cm[i], label=c)\n",
    "    ax.legend()\n",
    "        \n",
    "    plt.show()"
   ]
  },
  {
   "cell_type": "code",
   "execution_count": null,
   "metadata": {},
   "outputs": [],
   "source": [
    "fake_labels = np.zeros((50, 1))\n",
    "fake_labels[25:, 0] = 1\n",
    "\n",
    "coords = fit_tsne_on_corpus(twenty_train.data[:50], labels=fake_labels)"
   ]
  },
  {
   "cell_type": "code",
   "execution_count": null,
   "metadata": {},
   "outputs": [],
   "source": [
    "plot_coords(coords, labels=fake_labels.reshape(-1,))"
   ]
  },
  {
   "cell_type": "markdown",
   "metadata": {},
   "source": [
    "## Same functions, but using textacy"
   ]
  },
  {
   "cell_type": "code",
   "execution_count": null,
   "metadata": {},
   "outputs": [],
   "source": [
    "# Load example dataset\n",
    "categories = ['alt.atheism', 'soc.religion.christian',\n",
    "              'comp.graphics', 'sci.med']\n",
    "\n",
    "from sklearn.datasets import fetch_20newsgroups\n",
    "\n",
    "twenty_train = fetch_20newsgroups(subset='train',\n",
    "    categories=categories, shuffle=True, random_state=42)"
   ]
  },
  {
   "cell_type": "code",
   "execution_count": 10,
   "metadata": {},
   "outputs": [],
   "source": [
    "from sklearn.manifold import TSNE\n",
    "\n",
    "\n",
    "VECT_ARGS = {'apply_idf': True, \n",
    "             'norm': None, \n",
    "             'idf_type': 'smooth', \n",
    "             'min_df': 1,\n",
    "             'max_df': 0.95, \n",
    "             'max_n_terms': 100000}\n",
    "\n",
    "TSNE_ARGS = {'n_components': 2, \n",
    "             'verbose': 1, \n",
    "             'random_state':0, \n",
    "             'angle':.99,\n",
    "             'init': 'pca'}\n",
    "\n",
    "\n",
    "def fit_tsne_on_corpus2(corpus, labels=None, vect_args=VECT_ARGS,\n",
    "                        tsne_args=TSNE_ARGS):\n",
    "    \"\"\"Fit t-SNE on a text corpus.\n",
    "    \n",
    "    Fit t-SNE on a text corpus.\n",
    "    The following steps are used:\n",
    "    1. Extract word count from each document of the corpus.\n",
    "    2. Transform word counts into tf-idf feature vectors.\n",
    "    3. (Optional) Add labels to the matrix.\n",
    "    4. Run t-SNE.\n",
    "    \n",
    "    Args:\n",
    "        corpus (textacy.Corpus): object containing the documents processed\n",
    "            by textacy\n",
    "        \n",
    "    Keyword Args:\n",
    "        labels (np.ndarray): labels to include when running t-SNE. Provided as\n",
    "            array of shape (n_docs, n_labels) where each row contains the \n",
    "            labels for a specific document. Labels must be numerical values.  \n",
    "        vect_args (dict): dictionary of arguments to pass to \n",
    "            textacy.vsm.Vectorizer().\n",
    "        tsne_args (dict): dictionary of arguments to pass to sklearn's\n",
    "            TSNE function.\n",
    "        \n",
    "    Returns:\n",
    "        (np.ndarray): array of shape (n_docs, 2) containing the t-SNE \n",
    "            coordinates for each document\n",
    "        (np.ndarray): array of shape (n_docs, n_features) containing the\n",
    "            extracted features\n",
    "            \n",
    "    TODO:\n",
    "    - Extract better features than tf-idf\n",
    "    - Allow modifying t-SNE's hyperparameters\n",
    "    - Use different t-SNE backend for speed\n",
    "    \"\"\"\n",
    "        \n",
    "    terms_list = (doc.to_terms_list(ngrams=1, named_entities=True,\n",
    "                                    as_strings=True) \n",
    "                  for doc in corpus)\n",
    "    \n",
    "    vectorizer = textacy.vsm.Vectorizer(**vect_args)\n",
    "    term_matrix = vectorizer.fit_transform(terms_list).todense()\n",
    "        \n",
    "    if labels is not None:\n",
    "        term_matrix = np.concatenate([term_matrix, labels], axis=1)\n",
    "        \n",
    "    tsne_model = TSNE(**tsne_args)\n",
    "    tsne_coords = tsne_model.fit_transform(term_matrix)\n",
    "    \n",
    "    return tsne_coords, term_matrix"
   ]
  },
  {
   "cell_type": "code",
   "execution_count": null,
   "metadata": {},
   "outputs": [],
   "source": [
    "%%time\n",
    "corpus = textacy.Corpus(lang='en', texts=twenty_train.data[:50])"
   ]
  },
  {
   "cell_type": "code",
   "execution_count": null,
   "metadata": {},
   "outputs": [],
   "source": [
    "fake_labels = np.zeros((50, 1))\n",
    "fake_labels[25:, 0] = 100"
   ]
  },
  {
   "cell_type": "code",
   "execution_count": null,
   "metadata": {
    "scrolled": false
   },
   "outputs": [],
   "source": [
    "coords, feats = fit_tsne_on_corpus2(corpus, labels=fake_labels)"
   ]
  },
  {
   "cell_type": "code",
   "execution_count": null,
   "metadata": {},
   "outputs": [],
   "source": [
    "plot_coords(coords, labels=fake_labels.reshape(-1,))"
   ]
  },
  {
   "cell_type": "markdown",
   "metadata": {},
   "source": [
    "## Trying with our data!\n",
    "\n",
    "Olivier collected data using the Alyen News API. Let's load it and see what kind of map we get!"
   ]
  },
  {
   "cell_type": "code",
   "execution_count": 3,
   "metadata": {},
   "outputs": [],
   "source": [
    "import glob\n",
    "import os\n",
    "import codecs\n",
    "import json \n",
    "\n",
    "from joblib import Parallel, delayed\n",
    "\n",
    "\n",
    "folderpath = '/home/hubert/Documents/kesseca/data/outlets_27'\n",
    "filepaths = glob.glob(os.path.join(folderpath, '*.json'))"
   ]
  },
  {
   "cell_type": "code",
   "execution_count": 5,
   "metadata": {},
   "outputs": [],
   "source": [
    "# Political spectrum labels\n",
    "political_labels = {\"abc-news\": 3,\n",
    "                    \"al-jazeera-english\": 3,\n",
    "                    \"associated-press\": 3,\n",
    "                    \"axios\": 3,\n",
    "                    \"bbc-news\": 3,\n",
    "                    \"bloomberg\": 3,\n",
    "                    \"breitbart-news\": 5,\n",
    "                    \"business-insider\": 3,\n",
    "                    \"cnbc\": 3,\n",
    "                    \"cnn\": 3,\n",
    "                    \"fox-news\": 4,\n",
    "                    \"msnbc\": 1,\n",
    "                    \"nbc-news\": 3,\n",
    "                    \"newsweek\": 2,\n",
    "                    \"new-york-magazine\": 1,\n",
    "                    \"politico\": 2,\n",
    "                    \"reuters\": 3,\n",
    "                    \"the-economist\": 2,\n",
    "                    \"the-guardian-uk\": 2,\n",
    "                    \"the-hill\": 3,\n",
    "                    \"the-new-york-times\": 2,\n",
    "                    \"the-huffington-post\": 2,\n",
    "                    \"the-telegraph\": 4,\n",
    "                    \"the-wall-street-journal\": 3,\n",
    "                    \"the-washington-post\": 2,\n",
    "                    \"time\": 1,\n",
    "                    \"usa-today\": 3,\n",
    "                    \"vice-news\": 1,\n",
    "                    \"cbs-news\": 3,\n",
    "                    \"google-news\": 3}"
   ]
  },
  {
   "cell_type": "code",
   "execution_count": 5,
   "metadata": {},
   "outputs": [],
   "source": [
    "# Load the JSON files\n",
    "data = []\n",
    "\n",
    "for path in filepaths:\n",
    "    with codecs.open(path, 'r', encoding='utf8') as f:  # , \n",
    "        data.append(json.load(f))"
   ]
  },
  {
   "cell_type": "markdown",
   "metadata": {},
   "source": [
    "Let's start by making a t-SNE map from the articles of the first outlet."
   ]
  },
  {
   "cell_type": "code",
   "execution_count": 6,
   "metadata": {},
   "outputs": [],
   "source": [
    "def convert_str_to_doc_parallel(data, n_jobs=4):\n",
    "    \"\"\"\n",
    "    Args:\n",
    "        data (list of str): \n",
    "    \"\"\"\n",
    "    docs = Parallel(n_jobs=n_jobs)(\n",
    "        delayed(textacy.Doc)(content=article['body'], lang='en',\n",
    "                             metadata={'title': article['title'],\n",
    "                                       'date': article['date']})\n",
    "                             for article in data)\n",
    "    \n",
    "    return docs"
   ]
  },
  {
   "cell_type": "code",
   "execution_count": 7,
   "metadata": {
    "scrolled": true
   },
   "outputs": [
    {
     "name": "stdout",
     "output_type": "stream",
     "text": [
      "CPU times: user 10 s, sys: 558 ms, total: 10.6 s\n",
      "Wall time: 23 s\n"
     ]
    }
   ],
   "source": [
    "%%time\n",
    "outlets = data[4]['articles']['results'][:15] + data[21]['articles']['results'][:15]\n",
    "docs = convert_str_to_doc_parallel(outlets)"
   ]
  },
  {
   "cell_type": "code",
   "execution_count": 8,
   "metadata": {
    "scrolled": true
   },
   "outputs": [
    {
     "ename": "ValueError",
     "evalue": "Doc.spacy_vocab <spacy.vocab.Vocab object at 0x7f343458ee48> != Corpus.spacy_vocab <spacy.vocab.Vocab object at 0x7f343458ebc8>",
     "output_type": "error",
     "traceback": [
      "\u001b[0;31m---------------------------------------------------------------------------\u001b[0m",
      "\u001b[0;31mValueError\u001b[0m                                Traceback (most recent call last)",
      "\u001b[0;32m<ipython-input-8-786694e4537b>\u001b[0m in \u001b[0;36m<module>\u001b[0;34m()\u001b[0m\n\u001b[0;32m----> 1\u001b[0;31m \u001b[0mcorpus\u001b[0m \u001b[0;34m=\u001b[0m \u001b[0mtextacy\u001b[0m\u001b[0;34m.\u001b[0m\u001b[0mCorpus\u001b[0m\u001b[0;34m(\u001b[0m\u001b[0mlang\u001b[0m\u001b[0;34m=\u001b[0m\u001b[0;34m'en'\u001b[0m\u001b[0;34m,\u001b[0m \u001b[0mdocs\u001b[0m\u001b[0;34m=\u001b[0m\u001b[0mdocs\u001b[0m\u001b[0;34m)\u001b[0m\u001b[0;34m\u001b[0m\u001b[0m\n\u001b[0m",
      "\u001b[0;32m~/.pyenv/versions/3.5.1/envs/kesseca/lib/python3.5/site-packages/textacy/corpus.py\u001b[0m in \u001b[0;36m__init__\u001b[0;34m(self, lang, texts, docs, metadatas)\u001b[0m\n\u001b[1;32m    157\u001b[0m             \u001b[0;32melse\u001b[0m\u001b[0;34m:\u001b[0m\u001b[0;34m\u001b[0m\u001b[0m\n\u001b[1;32m    158\u001b[0m                 \u001b[0;32mfor\u001b[0m \u001b[0mdoc\u001b[0m \u001b[0;32min\u001b[0m \u001b[0mdocs\u001b[0m\u001b[0;34m:\u001b[0m\u001b[0;34m\u001b[0m\u001b[0m\n\u001b[0;32m--> 159\u001b[0;31m                     \u001b[0mself\u001b[0m\u001b[0;34m.\u001b[0m\u001b[0madd_doc\u001b[0m\u001b[0;34m(\u001b[0m\u001b[0mdoc\u001b[0m\u001b[0;34m)\u001b[0m\u001b[0;34m\u001b[0m\u001b[0m\n\u001b[0m\u001b[1;32m    160\u001b[0m \u001b[0;34m\u001b[0m\u001b[0m\n\u001b[1;32m    161\u001b[0m     \u001b[0;32mdef\u001b[0m \u001b[0m__repr__\u001b[0m\u001b[0;34m(\u001b[0m\u001b[0mself\u001b[0m\u001b[0;34m)\u001b[0m\u001b[0;34m:\u001b[0m\u001b[0;34m\u001b[0m\u001b[0m\n",
      "\u001b[0;32m~/.pyenv/versions/3.5.1/envs/kesseca/lib/python3.5/site-packages/textacy/corpus.py\u001b[0m in \u001b[0;36madd_doc\u001b[0;34m(self, doc, metadata)\u001b[0m\n\u001b[1;32m    320\u001b[0m                 msg = 'Doc.spacy_vocab {} != Corpus.spacy_vocab {}'.format(\n\u001b[1;32m    321\u001b[0m                     doc.spacy_vocab, self.spacy_vocab)\n\u001b[0;32m--> 322\u001b[0;31m                 \u001b[0;32mraise\u001b[0m \u001b[0mValueError\u001b[0m\u001b[0;34m(\u001b[0m\u001b[0mmsg\u001b[0m\u001b[0;34m)\u001b[0m\u001b[0;34m\u001b[0m\u001b[0m\n\u001b[0m\u001b[1;32m    323\u001b[0m             \u001b[0;32mif\u001b[0m \u001b[0mhasattr\u001b[0m\u001b[0;34m(\u001b[0m\u001b[0mdoc\u001b[0m\u001b[0;34m,\u001b[0m \u001b[0;34m'corpus_index'\u001b[0m\u001b[0;34m)\u001b[0m\u001b[0;34m:\u001b[0m\u001b[0;34m\u001b[0m\u001b[0m\n\u001b[1;32m    324\u001b[0m                 \u001b[0mdoc\u001b[0m \u001b[0;34m=\u001b[0m \u001b[0mcopy\u001b[0m\u001b[0;34m.\u001b[0m\u001b[0mdeepcopy\u001b[0m\u001b[0;34m(\u001b[0m\u001b[0mdoc\u001b[0m\u001b[0;34m)\u001b[0m\u001b[0;34m\u001b[0m\u001b[0m\n",
      "\u001b[0;31mValueError\u001b[0m: Doc.spacy_vocab <spacy.vocab.Vocab object at 0x7f343458ee48> != Corpus.spacy_vocab <spacy.vocab.Vocab object at 0x7f343458ebc8>"
     ]
    }
   ],
   "source": [
    "corpus = textacy.Corpus(lang='en', docs=docs)"
   ]
  },
  {
   "cell_type": "code",
   "execution_count": 24,
   "metadata": {
    "scrolled": true
   },
   "outputs": [
    {
     "name": "stdout",
     "output_type": "stream",
     "text": [
      "[t-SNE] Computing 29 nearest neighbors...\n",
      "[t-SNE] Indexed 30 samples in 0.001s...\n",
      "[t-SNE] Computed neighbors for 30 samples in 0.002s...\n",
      "[t-SNE] Computed conditional probabilities for sample 30 / 30\n",
      "[t-SNE] Mean sigma: 30.876721\n",
      "[t-SNE] KL divergence after 250 iterations with early exaggeration: 39.310295\n",
      "[t-SNE] Error after 800 iterations: 0.110490\n"
     ]
    }
   ],
   "source": [
    "tsne_args = {'n_components': 2, \n",
    "             'perplexity': 100,\n",
    "             'learning_rate': 10,\n",
    "             'verbose': 1, \n",
    "             'random_state':0, \n",
    "             'angle': 0.5,\n",
    "             'init': 'random',\n",
    "             'n_iter': 5000}\n",
    "\n",
    "coords, feats = fit_tsne_on_corpus2(docs, labels=None, \n",
    "                                    tsne_args=tsne_args)"
   ]
  },
  {
   "cell_type": "code",
   "execution_count": 25,
   "metadata": {},
   "outputs": [
    {
     "name": "stdout",
     "output_type": "stream",
     "text": [
      "Class 0.0\n"
     ]
    },
    {
     "data": {
      "image/png": "[encoded data removed]",
      "text/plain": [
       "<Figure size 432x288 with 1 Axes>"
      ]
     },
     "metadata": {},
     "output_type": "display_data"
    }
   ],
   "source": [
    "plot_coords(coords)  #, labels=fake_labels.reshape(-1,))"
   ]
  },
  {
   "cell_type": "code",
   "execution_count": null,
   "metadata": {},
   "outputs": [],
   "source": [
    "plt.figure(figsize=(20, 20))\n",
    "sns.heatmap(feats, vmax=20)"
   ]
  }
 ],
 "metadata": {
  "kernelspec": {
   "display_name": "Python 3",
   "language": "python",
   "name": "python3"
  },
  "language_info": {
   "codemirror_mode": {
    "name": "ipython",
    "version": 3
   },
   "file_extension": ".py",
   "mimetype": "text/x-python",
   "name": "python",
   "nbconvert_exporter": "python",
   "pygments_lexer": "ipython3",
   "version": "3.5.1"
  }
 },
 "nbformat": 4,
 "nbformat_minor": 2
}
