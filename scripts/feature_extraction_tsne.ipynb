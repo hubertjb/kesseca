{
 "cells": [
  {
   "cell_type": "markdown",
   "metadata": {},
   "source": [
    "# Extracting features from text file\n",
    "\n",
    "\n",
    "See https://towardsdatascience.com/document-feature-extraction-and-classification-53f0e813d2d3"
   ]
  },
  {
   "cell_type": "code",
   "execution_count": 1,
   "metadata": {},
   "outputs": [],
   "source": [
    "import spacy\n",
    "import textacy\n",
    "\n",
    "import numpy as np\n",
    "from sklearn.feature_extraction import text\n",
    "import seaborn as sns\n",
    "import matplotlib.pyplot as plt\n",
    "%matplotlib inline"
   ]
  },
  {
   "cell_type": "code",
   "execution_count": null,
   "metadata": {},
   "outputs": [],
   "source": [
    "content = \"\"\"That dirty tricks exist in the world of high-stakes politics will come as a surprise to few. Nonetheless, leaders of the global firm Cambridge Analytica captured headlines around the world this week as they breezily discussed the strategies for deception and manipulation of foreign elections on hidden cameras. Cambridge Analytica has been accused of improperly using information from more than 50 million Facebook accounts. The London-based company denies wrongdoing. Cambridge Analytica is best known for its work with Donald Trump's presidential election campaign in 2016. CEO Alexander Nix, unaware he was being recorded, claimed he'd met Trump \"many times\" in a bombshell undercover investigation broadcast Tuesday on Britain's Channel 4 news. A colleague also suggested they created damaging memes targeting Hillary Clinton during the election. Nix was suspended the day after the story aired. The investigation revealed that over the course of four meetings, the journalists used hidden cameras and microphones to record Nix and the company's managing director Mark Turnbull, as they discussed ways to secretly influence Sri Lanka's upcoming national election — something they claim they'd already done in Kenya in 2017.\"\"\"\n",
    "\n",
    "print(content)"
   ]
  },
  {
   "cell_type": "code",
   "execution_count": null,
   "metadata": {},
   "outputs": [],
   "source": [
    "metadata = {'title': 'How Cambridge Analytica stumbled into the spotlight',\n",
    "            'author': 'Diana Swain',\n",
    "            'pub_date': '2018-03-24'}"
   ]
  },
  {
   "cell_type": "markdown",
   "metadata": {},
   "source": [
    "## 1. Using spaCy and textaCy"
   ]
  },
  {
   "cell_type": "code",
   "execution_count": null,
   "metadata": {},
   "outputs": [],
   "source": [
    "doc = textacy.Doc(content, metadata=metadata, lang='en')\n",
    "print(doc)"
   ]
  },
  {
   "cell_type": "code",
   "execution_count": null,
   "metadata": {},
   "outputs": [],
   "source": [
    "doc.to_bag_of_terms(ngrams=2, named_entities=False, lemmatize=True, \n",
    "                    as_strings=True)"
   ]
  },
  {
   "cell_type": "code",
   "execution_count": null,
   "metadata": {},
   "outputs": [],
   "source": [
    "[i for i in textacy.extract.named_entities(doc)]"
   ]
  },
  {
   "cell_type": "markdown",
   "metadata": {},
   "source": [
    "## 2. Using sklearn"
   ]
  },
  {
   "cell_type": "code",
   "execution_count": null,
   "metadata": {},
   "outputs": [],
   "source": [
    "# Load example dataset\n",
    "categories = ['alt.atheism', 'soc.religion.christian',\n",
    "              'comp.graphics', 'sci.med']\n",
    "\n",
    "from sklearn.datasets import fetch_20newsgroups\n",
    "\n",
    "twenty_train = fetch_20newsgroups(subset='train',\n",
    "    categories=categories, shuffle=True, random_state=42)"
   ]
  },
  {
   "cell_type": "code",
   "execution_count": 8,
   "metadata": {},
   "outputs": [],
   "source": [
    "from sklearn.feature_extraction import text\n",
    "from sklearn.manifold import TSNE\n",
    "\n",
    "\n",
    "TSNE_ARGS = {'n_components': 2, \n",
    "             'verbose': 1, \n",
    "             'random_state':0, \n",
    "             'angle':.99,\n",
    "             'init': 'pca'}\n",
    "\n",
    "\n",
    "def fit_tsne_on_corpus(corpus, labels=None, tsne_args=TSNE_ARGS):\n",
    "    \"\"\"Fit t-SNE on a text corpus.\n",
    "    \n",
    "    Fit t-SNE on a text corpus.\n",
    "    The following steps are used:\n",
    "    1. Extract word count from each document of the corpus.\n",
    "    2. Transform word counts into tf-idf feature vectors.\n",
    "    3. (Optional) Add labels to the matrix.\n",
    "    4. Run t-SNE.\n",
    "    \n",
    "    Args:\n",
    "        corpus (list of str): list containing `n_docs` strings, where each \n",
    "            string is one document\n",
    "    \n",
    "    Keyword Args:\n",
    "        labels (np.ndarray): labels to include when running t-SNE. Provided as\n",
    "            array of shape (n_docs, n_labels) where each row contains the \n",
    "            labels for a specific document. Labels must be numerical values.  \n",
    "        tsne_args (dict): dictionary of arguments to pass to sklearn's\n",
    "            TSNE function.\n",
    "        \n",
    "    Returns:\n",
    "        (np.ndarray): array of shape (n_docs, 2) containing the t-SNE \n",
    "            coordinates for each document\n",
    "            \n",
    "    TODO:\n",
    "    - Extract better features than tf-idf\n",
    "    - Allow modifying t-SNE's hyperparameters\n",
    "    - Use different t-SNE backend for speed\n",
    "    \"\"\"\n",
    "    \n",
    "    assert isinstance(corpus, list)\n",
    "\n",
    "    count_vect = text.CountVectorizer()\n",
    "    counts = count_vect.fit_transform(corpus)\n",
    "    \n",
    "    tfidf_transformer = text.TfidfTransformer()\n",
    "    tfidf_data = tfidf_transformer.fit_transform(counts).todense()\n",
    "    \n",
    "    if labels is not None:\n",
    "        tfidf_data = np.concatenate([tfidf_data, labels], axis=1)\n",
    "\n",
    "    tsne_model = TSNE(**tsne_args)\n",
    "    tsne_coords = tsne_model.fit_transform(tfidf_data)\n",
    "    \n",
    "    return tsne_coords\n",
    "\n",
    "\n",
    "def plot_coords(coords, labels=None):\n",
    "    \"\"\"Plot coordinates with optional labels.\n",
    "    \n",
    "    Args:\n",
    "        coords (np.ndarray): array of shape (n_points, 2) containing the\n",
    "            coordinates of each point.\n",
    "            \n",
    "    Keyword Args:\n",
    "        labels (np.ndarray): array of shape (n_points,) containing a categorical\n",
    "            label or each point.\n",
    "    \"\"\"\n",
    "    \n",
    "    if labels is None:\n",
    "        labels = np.zeros((coords.shape[0], ))\n",
    "                \n",
    "    classes = np.unique(labels)\n",
    "    cm = sns.color_palette('hls', len(classes))\n",
    "    \n",
    "    fig, ax = plt.subplots()\n",
    "    \n",
    "    for i, c in enumerate(classes):\n",
    "        print('Class {}'.format(c))\n",
    "        ind = labels == c\n",
    "        ax.scatter(coords[ind, 0], coords[ind, 1], s=5, \n",
    "                   color=cm[i], label=c)\n",
    "    ax.legend()\n",
    "        \n",
    "    plt.show()"
   ]
  },
  {
   "cell_type": "code",
   "execution_count": null,
   "metadata": {},
   "outputs": [],
   "source": [
    "fake_labels = np.zeros((50, 1))\n",
    "fake_labels[25:, 0] = 1\n",
    "\n",
    "coords = fit_tsne_on_corpus(twenty_train.data[:50], labels=fake_labels)"
   ]
  },
  {
   "cell_type": "code",
   "execution_count": null,
   "metadata": {},
   "outputs": [],
   "source": [
    "plot_coords(coords, labels=fake_labels.reshape(-1,))"
   ]
  },
  {
   "cell_type": "markdown",
   "metadata": {},
   "source": [
    "## Same functions, but using textacy"
   ]
  },
  {
   "cell_type": "code",
   "execution_count": 2,
   "metadata": {},
   "outputs": [],
   "source": [
    "# Load example dataset\n",
    "categories = ['alt.atheism', 'soc.religion.christian',\n",
    "              'comp.graphics', 'sci.med']\n",
    "\n",
    "from sklearn.datasets import fetch_20newsgroups\n",
    "\n",
    "twenty_train = fetch_20newsgroups(subset='train',\n",
    "    categories=categories, shuffle=True, random_state=42)"
   ]
  },
  {
   "cell_type": "code",
   "execution_count": 3,
   "metadata": {},
   "outputs": [],
   "source": [
    "from sklearn.manifold import TSNE\n",
    "\n",
    "\n",
    "VECT_ARGS = {'apply_idf': True, \n",
    "             'norm': None, \n",
    "             'idf_type': 'smooth', \n",
    "             'min_df': 1,\n",
    "             'max_df': 0.95, \n",
    "             'max_n_terms': 100000}\n",
    "\n",
    "TSNE_ARGS = {'n_components': 2, \n",
    "             'verbose': 1, \n",
    "             'random_state':0, \n",
    "             'angle':.99,\n",
    "             'init': 'pca'}\n",
    "\n",
    "\n",
    "def fit_tsne_on_corpus2(corpus, labels=None, vect_args=VECT_ARGS,\n",
    "                        tsne_args=TSNE_ARGS):\n",
    "    \"\"\"Fit t-SNE on a text corpus.\n",
    "    \n",
    "    Fit t-SNE on a text corpus.\n",
    "    The following steps are used:\n",
    "    1. Extract word count from each document of the corpus.\n",
    "    2. Transform word counts into tf-idf feature vectors.\n",
    "    3. (Optional) Add labels to the matrix.\n",
    "    4. Run t-SNE.\n",
    "    \n",
    "    Args:\n",
    "        corpus (textacy.Corpus): object containing the documents processed\n",
    "            by textacy\n",
    "        \n",
    "    Keyword Args:\n",
    "        labels (np.ndarray): labels to include when running t-SNE. Provided as\n",
    "            array of shape (n_docs, n_labels) where each row contains the \n",
    "            labels for a specific document. Labels must be numerical values.  \n",
    "        vect_args (dict): dictionary of arguments to pass to \n",
    "            textacy.vsm.Vectorizer().\n",
    "        tsne_args (dict): dictionary of arguments to pass to sklearn's\n",
    "            TSNE function.\n",
    "        \n",
    "    Returns:\n",
    "        (np.ndarray): array of shape (n_docs, 2) containing the t-SNE \n",
    "            coordinates for each document\n",
    "            \n",
    "    TODO:\n",
    "    - Extract better features than tf-idf\n",
    "    - Allow modifying t-SNE's hyperparameters\n",
    "    - Use different t-SNE backend for speed\n",
    "    \"\"\"\n",
    "        \n",
    "    terms_list = (doc.to_terms_list(ngrams=1, named_entities=True,\n",
    "                                    as_strings=True) \n",
    "                  for doc in corpus)\n",
    "    \n",
    "    vectorizer = textacy.vsm.Vectorizer(**vect_args)\n",
    "    term_matrix = vectorizer.fit_transform(terms_list).todense()\n",
    "        \n",
    "    if labels is not None:\n",
    "        term_matrix = np.concatenate([term_matrix, labels], axis=1)\n",
    "        \n",
    "    tsne_model = TSNE(**tsne_args)\n",
    "    tsne_coords = tsne_model.fit_transform(term_matrix)\n",
    "    \n",
    "    return tsne_coords"
   ]
  },
  {
   "cell_type": "code",
   "execution_count": 4,
   "metadata": {},
   "outputs": [
    {
     "name": "stdout",
     "output_type": "stream",
     "text": [
      "CPU times: user 46.2 s, sys: 395 ms, total: 46.6 s\n",
      "Wall time: 47 s\n"
     ]
    }
   ],
   "source": [
    "%%time\n",
    "corpus = textacy.Corpus(lang='en', texts=twenty_train.data[:50])"
   ]
  },
  {
   "cell_type": "code",
   "execution_count": 5,
   "metadata": {},
   "outputs": [],
   "source": [
    "fake_labels = np.zeros((50, 1))\n",
    "fake_labels[25:, 0] = 100"
   ]
  },
  {
   "cell_type": "code",
   "execution_count": 6,
   "metadata": {
    "scrolled": false
   },
   "outputs": [
    {
     "name": "stdout",
     "output_type": "stream",
     "text": [
      "[t-SNE] Computing 49 nearest neighbors...\n",
      "[t-SNE] Indexed 50 samples in 0.000s...\n",
      "[t-SNE] Computed neighbors for 50 samples in 0.006s...\n",
      "[t-SNE] Computed conditional probabilities for sample 50 / 50\n",
      "[t-SNE] Mean sigma: 72.087793\n",
      "[t-SNE] KL divergence after 250 iterations with early exaggeration: 51.384151\n",
      "[t-SNE] Error after 950 iterations: 0.321889\n"
     ]
    }
   ],
   "source": [
    "coords = fit_tsne_on_corpus2(corpus, labels=fake_labels)"
   ]
  },
  {
   "cell_type": "code",
   "execution_count": 9,
   "metadata": {},
   "outputs": [
    {
     "name": "stdout",
     "output_type": "stream",
     "text": [
      "Class 0.0\n",
      "Class 100.0\n"
     ]
    },
    {
     "data": {
      "image/png": "[encoded data removed]",
      "text/plain": [
       "<Figure size 432x288 with 1 Axes>"
      ]
     },
     "metadata": {},
     "output_type": "display_data"
    }
   ],
   "source": [
    "plot_coords(coords, labels=fake_labels.reshape(-1,))"
   ]
  },
  {
   "cell_type": "markdown",
   "metadata": {},
   "source": [
    "## Trying with our data!\n",
    "\n",
    "Olivier collected data using the Alyen News API. Let's load it and see what kind of map we get!"
   ]
  },
  {
   "cell_type": "code",
   "execution_count": 10,
   "metadata": {},
   "outputs": [],
   "source": [
    "import glob\n",
    "import os\n",
    "import codecs\n",
    "import json\n",
    "\n",
    "folderpath = '/home/hubert/Documents/kesseca/data/outlets_27'\n",
    "filepaths = glob.glob(os.path.join(folderpath, '*.json'))"
   ]
  },
  {
   "cell_type": "code",
   "execution_count": 16,
   "metadata": {},
   "outputs": [],
   "source": [
    "# Political spectrum labels\n",
    "political_labels = {\"abc-news\": 3,\n",
    "                    \"al-jazeera-english\": 3,\n",
    "                    \"associated-press\": 3,\n",
    "                    \"axios\": 3,\n",
    "                    \"bbc-news\": 3,\n",
    "                    \"bloomberg\": 3,\n",
    "                    \"breitbart-news\": 5,\n",
    "                    \"business-insider\": 3,\n",
    "                    \"cnbc\": 3,\n",
    "                    \"cnn\": 3,\n",
    "                    \"fox-news\": 4,\n",
    "                    \"msnbc\": 1,\n",
    "                    \"nbc-news\": 3,\n",
    "                    \"newsweek\": 2,\n",
    "                    \"new-york-magazine\": 1,\n",
    "                    \"politico\": 2,\n",
    "                    \"reuters\": 3,\n",
    "                    \"the-economist\": 2,\n",
    "                    \"the-guardian-uk\": 2,\n",
    "                    \"the-hill\": 3,\n",
    "                    \"the-new-york-times\": 2,\n",
    "                    \"the-huffington-post\": 2,\n",
    "                    \"the-telegraph\": 4,\n",
    "                    \"the-wall-street-journal\": 3,\n",
    "                    \"the-washington-post\": 2,\n",
    "                    \"time\": 1,\n",
    "                    \"usa-today\": 3,\n",
    "                    \"vice-news\": 1,\n",
    "                    \"cbs-news\": 3,\n",
    "                    \"google-news\": 3}"
   ]
  },
  {
   "cell_type": "code",
   "execution_count": 15,
   "metadata": {},
   "outputs": [],
   "source": [
    "# Load the JSON files\n",
    "data = []\n",
    "\n",
    "for path in filepaths:\n",
    "    with codecs.open(path, 'r', encoding='utf8') as f:  # , \n",
    "        data.append(json.load(f))"
   ]
  },
  {
   "cell_type": "markdown",
   "metadata": {},
   "source": [
    "Let's start by making a t-SNE map from the articles of the first outlet."
   ]
  },
  {
   "cell_type": "code",
   "execution_count": 34,
   "metadata": {
    "scrolled": true
   },
   "outputs": [
    {
     "name": "stdout",
     "output_type": "stream",
     "text": [
      "Parsing article 1/200...\n",
      "Parsing article 2/200...\n",
      "Parsing article 3/200...\n",
      "Parsing article 4/200...\n",
      "Parsing article 5/200...\n",
      "Parsing article 6/200...\n",
      "Parsing article 7/200...\n",
      "Parsing article 8/200...\n",
      "Parsing article 9/200...\n",
      "Parsing article 10/200...\n",
      "Parsing article 11/200...\n",
      "Parsing article 12/200...\n",
      "Parsing article 13/200...\n",
      "Parsing article 14/200...\n",
      "Parsing article 15/200...\n",
      "Parsing article 16/200...\n",
      "Parsing article 17/200...\n",
      "Parsing article 18/200...\n",
      "Parsing article 19/200...\n",
      "Parsing article 20/200...\n",
      "Parsing article 21/200...\n",
      "Parsing article 22/200...\n",
      "Parsing article 23/200...\n",
      "Parsing article 24/200...\n",
      "Parsing article 25/200...\n",
      "Parsing article 26/200...\n",
      "Parsing article 27/200...\n",
      "Parsing article 28/200...\n",
      "Parsing article 29/200...\n",
      "Parsing article 30/200...\n",
      "Parsing article 31/200...\n",
      "Parsing article 32/200...\n",
      "Parsing article 33/200...\n",
      "Parsing article 34/200...\n",
      "Parsing article 35/200...\n",
      "Parsing article 36/200...\n",
      "Parsing article 37/200...\n",
      "Parsing article 38/200...\n",
      "Parsing article 39/200...\n",
      "Parsing article 40/200...\n",
      "Parsing article 41/200...\n",
      "Parsing article 42/200...\n",
      "Parsing article 43/200...\n",
      "Parsing article 44/200...\n",
      "Parsing article 45/200...\n",
      "Parsing article 46/200...\n",
      "Parsing article 47/200...\n",
      "Parsing article 48/200...\n",
      "Parsing article 49/200...\n",
      "Parsing article 50/200...\n",
      "Parsing article 51/200...\n",
      "Parsing article 52/200...\n",
      "Parsing article 53/200...\n",
      "Parsing article 54/200...\n",
      "Parsing article 55/200...\n",
      "Parsing article 56/200...\n",
      "Parsing article 57/200...\n",
      "Parsing article 58/200...\n",
      "Parsing article 59/200...\n",
      "Parsing article 60/200...\n",
      "Parsing article 61/200...\n",
      "Parsing article 62/200...\n",
      "Parsing article 63/200...\n",
      "Parsing article 64/200...\n",
      "Parsing article 65/200...\n",
      "Parsing article 66/200...\n",
      "Parsing article 67/200...\n",
      "Parsing article 68/200...\n",
      "Parsing article 69/200...\n",
      "Parsing article 70/200...\n",
      "Parsing article 71/200...\n",
      "Parsing article 72/200...\n",
      "Parsing article 73/200...\n",
      "Parsing article 74/200...\n",
      "Parsing article 75/200...\n",
      "Parsing article 76/200...\n",
      "Parsing article 77/200...\n",
      "Parsing article 78/200...\n",
      "Parsing article 79/200...\n",
      "Parsing article 80/200...\n",
      "Parsing article 81/200...\n",
      "Parsing article 82/200...\n",
      "Parsing article 83/200...\n",
      "Parsing article 84/200...\n",
      "Parsing article 85/200...\n",
      "Parsing article 86/200...\n",
      "Parsing article 87/200...\n",
      "Parsing article 88/200...\n",
      "Parsing article 89/200...\n",
      "Parsing article 90/200...\n",
      "Parsing article 91/200...\n",
      "Parsing article 92/200...\n",
      "Parsing article 93/200...\n",
      "Parsing article 94/200...\n",
      "Parsing article 95/200...\n",
      "Parsing article 96/200...\n",
      "Parsing article 97/200...\n",
      "Parsing article 98/200...\n",
      "Parsing article 99/200...\n",
      "Parsing article 100/200...\n",
      "Parsing article 101/200...\n",
      "Parsing article 102/200...\n",
      "Parsing article 103/200...\n",
      "Parsing article 104/200...\n",
      "Parsing article 105/200...\n",
      "Parsing article 106/200...\n",
      "Parsing article 107/200...\n",
      "Parsing article 108/200...\n",
      "Parsing article 109/200...\n",
      "Parsing article 110/200...\n",
      "Parsing article 111/200...\n",
      "Parsing article 112/200...\n",
      "Parsing article 113/200...\n",
      "Parsing article 114/200...\n",
      "Parsing article 115/200...\n",
      "Parsing article 116/200...\n",
      "Parsing article 117/200...\n",
      "Parsing article 118/200...\n",
      "Parsing article 119/200...\n",
      "Parsing article 120/200...\n",
      "Parsing article 121/200...\n",
      "Parsing article 122/200...\n",
      "Parsing article 123/200...\n",
      "Parsing article 124/200...\n",
      "Parsing article 125/200...\n",
      "Parsing article 126/200...\n",
      "Parsing article 127/200...\n",
      "Parsing article 128/200...\n",
      "Parsing article 129/200...\n",
      "Parsing article 130/200...\n",
      "Parsing article 131/200...\n",
      "Parsing article 132/200...\n",
      "Parsing article 133/200...\n",
      "Parsing article 134/200...\n",
      "Parsing article 135/200...\n",
      "Parsing article 136/200...\n",
      "Parsing article 137/200...\n",
      "Parsing article 138/200...\n",
      "Parsing article 139/200...\n",
      "Parsing article 140/200...\n",
      "Parsing article 141/200...\n",
      "Parsing article 142/200...\n",
      "Parsing article 143/200...\n",
      "Parsing article 144/200...\n",
      "Parsing article 145/200...\n",
      "Parsing article 146/200...\n",
      "Parsing article 147/200...\n",
      "Parsing article 148/200...\n",
      "Parsing article 149/200...\n",
      "Parsing article 150/200...\n",
      "Parsing article 151/200...\n",
      "Parsing article 152/200...\n",
      "Parsing article 153/200...\n",
      "Parsing article 154/200...\n",
      "Parsing article 155/200...\n",
      "Parsing article 156/200...\n",
      "Parsing article 157/200...\n",
      "Parsing article 158/200...\n",
      "Parsing article 159/200...\n",
      "Parsing article 160/200...\n",
      "Parsing article 161/200...\n",
      "Parsing article 162/200...\n",
      "Parsing article 163/200...\n",
      "Parsing article 164/200...\n",
      "Parsing article 165/200...\n",
      "Parsing article 166/200...\n",
      "Parsing article 167/200...\n",
      "Parsing article 168/200...\n",
      "Parsing article 169/200...\n",
      "Parsing article 170/200...\n",
      "Parsing article 171/200...\n",
      "Parsing article 172/200...\n",
      "Parsing article 173/200...\n",
      "Parsing article 174/200...\n",
      "Parsing article 175/200...\n",
      "Parsing article 176/200...\n",
      "Parsing article 177/200...\n",
      "Parsing article 178/200...\n",
      "Parsing article 179/200...\n",
      "Parsing article 180/200...\n",
      "Parsing article 181/200...\n",
      "Parsing article 182/200...\n",
      "Parsing article 183/200...\n",
      "Parsing article 184/200...\n",
      "Parsing article 185/200...\n",
      "Parsing article 186/200...\n",
      "Parsing article 187/200...\n",
      "Parsing article 188/200...\n",
      "Parsing article 189/200...\n",
      "Parsing article 190/200...\n",
      "Parsing article 191/200...\n",
      "Parsing article 192/200...\n",
      "Parsing article 193/200...\n",
      "Parsing article 194/200...\n",
      "Parsing article 195/200...\n",
      "Parsing article 196/200...\n",
      "Parsing article 197/200...\n",
      "Parsing article 198/200...\n",
      "Parsing article 199/200...\n",
      "Parsing article 200/200...\n",
      "CPU times: user 4min 55s, sys: 496 ms, total: 4min 56s\n",
      "Wall time: 4min 56s\n"
     ]
    }
   ],
   "source": [
    "%%time\n",
    "outlet = data[0]['articles']['results']\n",
    "docs = []\n",
    "\n",
    "for i, article in enumerate(outlet):\n",
    "    print('Parsing article {}/{}...'.format(i + 1, len(outlet)))\n",
    "    metadata = {'title': article['title'],\n",
    "                 'date': article['date']}\n",
    "    docs.append(textacy.Doc(content=article['body'], metadata=metadata, \n",
    "                            lang='en'))"
   ]
  },
  {
   "cell_type": "code",
   "execution_count": 38,
   "metadata": {
    "collapsed": true
   },
   "outputs": [
    {
     "ename": "KeyboardInterrupt",
     "evalue": "",
     "output_type": "error",
     "traceback": [
      "\u001b[0;31m---------------------------------------------------------------------------\u001b[0m",
      "\u001b[0;31mKeyboardInterrupt\u001b[0m                         Traceback (most recent call last)",
      "\u001b[0;32m<ipython-input-38-786694e4537b>\u001b[0m in \u001b[0;36m<module>\u001b[0;34m()\u001b[0m\n\u001b[0;32m----> 1\u001b[0;31m \u001b[0mcorpus\u001b[0m \u001b[0;34m=\u001b[0m \u001b[0mtextacy\u001b[0m\u001b[0;34m.\u001b[0m\u001b[0mCorpus\u001b[0m\u001b[0;34m(\u001b[0m\u001b[0mlang\u001b[0m\u001b[0;34m=\u001b[0m\u001b[0;34m'en'\u001b[0m\u001b[0;34m,\u001b[0m \u001b[0mdocs\u001b[0m\u001b[0;34m=\u001b[0m\u001b[0mdocs\u001b[0m\u001b[0;34m)\u001b[0m\u001b[0;34m\u001b[0m\u001b[0m\n\u001b[0m",
      "\u001b[0;32m~/.pyenv/versions/3.5.1/envs/kesseca/lib/python3.5/site-packages/textacy/corpus.py\u001b[0m in \u001b[0;36m__init__\u001b[0;34m(self, lang, texts, docs, metadatas)\u001b[0m\n\u001b[1;32m    157\u001b[0m             \u001b[0;32melse\u001b[0m\u001b[0;34m:\u001b[0m\u001b[0;34m\u001b[0m\u001b[0m\n\u001b[1;32m    158\u001b[0m                 \u001b[0;32mfor\u001b[0m \u001b[0mdoc\u001b[0m \u001b[0;32min\u001b[0m \u001b[0mdocs\u001b[0m\u001b[0;34m:\u001b[0m\u001b[0;34m\u001b[0m\u001b[0m\n\u001b[0;32m--> 159\u001b[0;31m                     \u001b[0mself\u001b[0m\u001b[0;34m.\u001b[0m\u001b[0madd_doc\u001b[0m\u001b[0;34m(\u001b[0m\u001b[0mdoc\u001b[0m\u001b[0;34m)\u001b[0m\u001b[0;34m\u001b[0m\u001b[0m\n\u001b[0m\u001b[1;32m    160\u001b[0m \u001b[0;34m\u001b[0m\u001b[0m\n\u001b[1;32m    161\u001b[0m     \u001b[0;32mdef\u001b[0m \u001b[0m__repr__\u001b[0m\u001b[0;34m(\u001b[0m\u001b[0mself\u001b[0m\u001b[0;34m)\u001b[0m\u001b[0;34m:\u001b[0m\u001b[0;34m\u001b[0m\u001b[0m\n",
      "\u001b[0;32m~/.pyenv/versions/3.5.1/envs/kesseca/lib/python3.5/site-packages/textacy/corpus.py\u001b[0m in \u001b[0;36madd_doc\u001b[0;34m(self, doc, metadata)\u001b[0m\n\u001b[1;32m    322\u001b[0m                 \u001b[0;32mraise\u001b[0m \u001b[0mValueError\u001b[0m\u001b[0;34m(\u001b[0m\u001b[0mmsg\u001b[0m\u001b[0;34m)\u001b[0m\u001b[0;34m\u001b[0m\u001b[0m\n\u001b[1;32m    323\u001b[0m             \u001b[0;32mif\u001b[0m \u001b[0mhasattr\u001b[0m\u001b[0;34m(\u001b[0m\u001b[0mdoc\u001b[0m\u001b[0;34m,\u001b[0m \u001b[0;34m'corpus_index'\u001b[0m\u001b[0;34m)\u001b[0m\u001b[0;34m:\u001b[0m\u001b[0;34m\u001b[0m\u001b[0m\n\u001b[0;32m--> 324\u001b[0;31m                 \u001b[0mdoc\u001b[0m \u001b[0;34m=\u001b[0m \u001b[0mcopy\u001b[0m\u001b[0;34m.\u001b[0m\u001b[0mdeepcopy\u001b[0m\u001b[0;34m(\u001b[0m\u001b[0mdoc\u001b[0m\u001b[0;34m)\u001b[0m\u001b[0;34m\u001b[0m\u001b[0m\n\u001b[0m\u001b[1;32m    325\u001b[0m                 \u001b[0mLOGGER\u001b[0m\u001b[0;34m.\u001b[0m\u001b[0mwarning\u001b[0m\u001b[0;34m(\u001b[0m\u001b[0;34m'Doc already associated with a Corpus; adding anyway...'\u001b[0m\u001b[0;34m)\u001b[0m\u001b[0;34m\u001b[0m\u001b[0m\n\u001b[1;32m    326\u001b[0m             \u001b[0;32mif\u001b[0m \u001b[0mmetadata\u001b[0m \u001b[0;32mis\u001b[0m \u001b[0;32mnot\u001b[0m \u001b[0;32mNone\u001b[0m\u001b[0;34m:\u001b[0m\u001b[0;34m\u001b[0m\u001b[0m\n",
      "\u001b[0;32m~/.pyenv/versions/3.5.1/lib/python3.5/copy.py\u001b[0m in \u001b[0;36mdeepcopy\u001b[0;34m(x, memo, _nil)\u001b[0m\n\u001b[1;32m    180\u001b[0m                             raise Error(\n\u001b[1;32m    181\u001b[0m                                 \"un(deep)copyable object of type %s\" % cls)\n\u001b[0;32m--> 182\u001b[0;31m                 \u001b[0my\u001b[0m \u001b[0;34m=\u001b[0m \u001b[0m_reconstruct\u001b[0m\u001b[0;34m(\u001b[0m\u001b[0mx\u001b[0m\u001b[0;34m,\u001b[0m \u001b[0mrv\u001b[0m\u001b[0;34m,\u001b[0m \u001b[0;36m1\u001b[0m\u001b[0;34m,\u001b[0m \u001b[0mmemo\u001b[0m\u001b[0;34m)\u001b[0m\u001b[0;34m\u001b[0m\u001b[0m\n\u001b[0m\u001b[1;32m    183\u001b[0m \u001b[0;34m\u001b[0m\u001b[0m\n\u001b[1;32m    184\u001b[0m     \u001b[0;31m# If is its own copy, don't memoize.\u001b[0m\u001b[0;34m\u001b[0m\u001b[0;34m\u001b[0m\u001b[0m\n",
      "\u001b[0;32m~/.pyenv/versions/3.5.1/lib/python3.5/copy.py\u001b[0m in \u001b[0;36m_reconstruct\u001b[0;34m(x, info, deep, memo)\u001b[0m\n\u001b[1;32m    296\u001b[0m     \u001b[0;32mif\u001b[0m \u001b[0mstate\u001b[0m\u001b[0;34m:\u001b[0m\u001b[0;34m\u001b[0m\u001b[0m\n\u001b[1;32m    297\u001b[0m         \u001b[0;32mif\u001b[0m \u001b[0mdeep\u001b[0m\u001b[0;34m:\u001b[0m\u001b[0;34m\u001b[0m\u001b[0m\n\u001b[0;32m--> 298\u001b[0;31m             \u001b[0mstate\u001b[0m \u001b[0;34m=\u001b[0m \u001b[0mdeepcopy\u001b[0m\u001b[0;34m(\u001b[0m\u001b[0mstate\u001b[0m\u001b[0;34m,\u001b[0m \u001b[0mmemo\u001b[0m\u001b[0;34m)\u001b[0m\u001b[0;34m\u001b[0m\u001b[0m\n\u001b[0m\u001b[1;32m    299\u001b[0m         \u001b[0;32mif\u001b[0m \u001b[0mhasattr\u001b[0m\u001b[0;34m(\u001b[0m\u001b[0my\u001b[0m\u001b[0;34m,\u001b[0m \u001b[0;34m'__setstate__'\u001b[0m\u001b[0;34m)\u001b[0m\u001b[0;34m:\u001b[0m\u001b[0;34m\u001b[0m\u001b[0m\n\u001b[1;32m    300\u001b[0m             \u001b[0my\u001b[0m\u001b[0;34m.\u001b[0m\u001b[0m__setstate__\u001b[0m\u001b[0;34m(\u001b[0m\u001b[0mstate\u001b[0m\u001b[0;34m)\u001b[0m\u001b[0;34m\u001b[0m\u001b[0m\n",
      "\u001b[0;32m~/.pyenv/versions/3.5.1/lib/python3.5/copy.py\u001b[0m in \u001b[0;36mdeepcopy\u001b[0;34m(x, memo, _nil)\u001b[0m\n\u001b[1;32m    153\u001b[0m     \u001b[0mcopier\u001b[0m \u001b[0;34m=\u001b[0m \u001b[0m_deepcopy_dispatch\u001b[0m\u001b[0;34m.\u001b[0m\u001b[0mget\u001b[0m\u001b[0;34m(\u001b[0m\u001b[0mcls\u001b[0m\u001b[0;34m)\u001b[0m\u001b[0;34m\u001b[0m\u001b[0m\n\u001b[1;32m    154\u001b[0m     \u001b[0;32mif\u001b[0m \u001b[0mcopier\u001b[0m\u001b[0;34m:\u001b[0m\u001b[0;34m\u001b[0m\u001b[0m\n\u001b[0;32m--> 155\u001b[0;31m         \u001b[0my\u001b[0m \u001b[0;34m=\u001b[0m \u001b[0mcopier\u001b[0m\u001b[0;34m(\u001b[0m\u001b[0mx\u001b[0m\u001b[0;34m,\u001b[0m \u001b[0mmemo\u001b[0m\u001b[0;34m)\u001b[0m\u001b[0;34m\u001b[0m\u001b[0m\n\u001b[0m\u001b[1;32m    156\u001b[0m     \u001b[0;32melse\u001b[0m\u001b[0;34m:\u001b[0m\u001b[0;34m\u001b[0m\u001b[0m\n\u001b[1;32m    157\u001b[0m         \u001b[0;32mtry\u001b[0m\u001b[0;34m:\u001b[0m\u001b[0;34m\u001b[0m\u001b[0m\n",
      "\u001b[0;32m~/.pyenv/versions/3.5.1/lib/python3.5/copy.py\u001b[0m in \u001b[0;36m_deepcopy_dict\u001b[0;34m(x, memo)\u001b[0m\n\u001b[1;32m    242\u001b[0m     \u001b[0mmemo\u001b[0m\u001b[0;34m[\u001b[0m\u001b[0mid\u001b[0m\u001b[0;34m(\u001b[0m\u001b[0mx\u001b[0m\u001b[0;34m)\u001b[0m\u001b[0;34m]\u001b[0m \u001b[0;34m=\u001b[0m \u001b[0my\u001b[0m\u001b[0;34m\u001b[0m\u001b[0m\n\u001b[1;32m    243\u001b[0m     \u001b[0;32mfor\u001b[0m \u001b[0mkey\u001b[0m\u001b[0;34m,\u001b[0m \u001b[0mvalue\u001b[0m \u001b[0;32min\u001b[0m \u001b[0mx\u001b[0m\u001b[0;34m.\u001b[0m\u001b[0mitems\u001b[0m\u001b[0;34m(\u001b[0m\u001b[0;34m)\u001b[0m\u001b[0;34m:\u001b[0m\u001b[0;34m\u001b[0m\u001b[0m\n\u001b[0;32m--> 244\u001b[0;31m         \u001b[0my\u001b[0m\u001b[0;34m[\u001b[0m\u001b[0mdeepcopy\u001b[0m\u001b[0;34m(\u001b[0m\u001b[0mkey\u001b[0m\u001b[0;34m,\u001b[0m \u001b[0mmemo\u001b[0m\u001b[0;34m)\u001b[0m\u001b[0;34m]\u001b[0m \u001b[0;34m=\u001b[0m \u001b[0mdeepcopy\u001b[0m\u001b[0;34m(\u001b[0m\u001b[0mvalue\u001b[0m\u001b[0;34m,\u001b[0m \u001b[0mmemo\u001b[0m\u001b[0;34m)\u001b[0m\u001b[0;34m\u001b[0m\u001b[0m\n\u001b[0m\u001b[1;32m    245\u001b[0m     \u001b[0;32mreturn\u001b[0m \u001b[0my\u001b[0m\u001b[0;34m\u001b[0m\u001b[0m\n\u001b[1;32m    246\u001b[0m \u001b[0md\u001b[0m\u001b[0;34m[\u001b[0m\u001b[0mdict\u001b[0m\u001b[0;34m]\u001b[0m \u001b[0;34m=\u001b[0m \u001b[0m_deepcopy_dict\u001b[0m\u001b[0;34m\u001b[0m\u001b[0m\n",
      "\u001b[0;32m~/.pyenv/versions/3.5.1/lib/python3.5/copy.py\u001b[0m in \u001b[0;36mdeepcopy\u001b[0;34m(x, memo, _nil)\u001b[0m\n\u001b[1;32m    180\u001b[0m                             raise Error(\n\u001b[1;32m    181\u001b[0m                                 \"un(deep)copyable object of type %s\" % cls)\n\u001b[0;32m--> 182\u001b[0;31m                 \u001b[0my\u001b[0m \u001b[0;34m=\u001b[0m \u001b[0m_reconstruct\u001b[0m\u001b[0;34m(\u001b[0m\u001b[0mx\u001b[0m\u001b[0;34m,\u001b[0m \u001b[0mrv\u001b[0m\u001b[0;34m,\u001b[0m \u001b[0;36m1\u001b[0m\u001b[0;34m,\u001b[0m \u001b[0mmemo\u001b[0m\u001b[0;34m)\u001b[0m\u001b[0;34m\u001b[0m\u001b[0m\n\u001b[0m\u001b[1;32m    183\u001b[0m \u001b[0;34m\u001b[0m\u001b[0m\n\u001b[1;32m    184\u001b[0m     \u001b[0;31m# If is its own copy, don't memoize.\u001b[0m\u001b[0;34m\u001b[0m\u001b[0;34m\u001b[0m\u001b[0m\n",
      "\u001b[0;32m~/.pyenv/versions/3.5.1/lib/python3.5/copy.py\u001b[0m in \u001b[0;36m_reconstruct\u001b[0;34m(x, info, deep, memo)\u001b[0m\n\u001b[1;32m    296\u001b[0m     \u001b[0;32mif\u001b[0m \u001b[0mstate\u001b[0m\u001b[0;34m:\u001b[0m\u001b[0;34m\u001b[0m\u001b[0m\n\u001b[1;32m    297\u001b[0m         \u001b[0;32mif\u001b[0m \u001b[0mdeep\u001b[0m\u001b[0;34m:\u001b[0m\u001b[0;34m\u001b[0m\u001b[0m\n\u001b[0;32m--> 298\u001b[0;31m             \u001b[0mstate\u001b[0m \u001b[0;34m=\u001b[0m \u001b[0mdeepcopy\u001b[0m\u001b[0;34m(\u001b[0m\u001b[0mstate\u001b[0m\u001b[0;34m,\u001b[0m \u001b[0mmemo\u001b[0m\u001b[0;34m)\u001b[0m\u001b[0;34m\u001b[0m\u001b[0m\n\u001b[0m\u001b[1;32m    299\u001b[0m         \u001b[0;32mif\u001b[0m \u001b[0mhasattr\u001b[0m\u001b[0;34m(\u001b[0m\u001b[0my\u001b[0m\u001b[0;34m,\u001b[0m \u001b[0;34m'__setstate__'\u001b[0m\u001b[0;34m)\u001b[0m\u001b[0;34m:\u001b[0m\u001b[0;34m\u001b[0m\u001b[0m\n\u001b[1;32m    300\u001b[0m             \u001b[0my\u001b[0m\u001b[0;34m.\u001b[0m\u001b[0m__setstate__\u001b[0m\u001b[0;34m(\u001b[0m\u001b[0mstate\u001b[0m\u001b[0;34m)\u001b[0m\u001b[0;34m\u001b[0m\u001b[0m\n",
      "\u001b[0;32m~/.pyenv/versions/3.5.1/lib/python3.5/copy.py\u001b[0m in \u001b[0;36mdeepcopy\u001b[0;34m(x, memo, _nil)\u001b[0m\n\u001b[1;32m    153\u001b[0m     \u001b[0mcopier\u001b[0m \u001b[0;34m=\u001b[0m \u001b[0m_deepcopy_dispatch\u001b[0m\u001b[0;34m.\u001b[0m\u001b[0mget\u001b[0m\u001b[0;34m(\u001b[0m\u001b[0mcls\u001b[0m\u001b[0;34m)\u001b[0m\u001b[0;34m\u001b[0m\u001b[0m\n\u001b[1;32m    154\u001b[0m     \u001b[0;32mif\u001b[0m \u001b[0mcopier\u001b[0m\u001b[0;34m:\u001b[0m\u001b[0;34m\u001b[0m\u001b[0m\n\u001b[0;32m--> 155\u001b[0;31m         \u001b[0my\u001b[0m \u001b[0;34m=\u001b[0m \u001b[0mcopier\u001b[0m\u001b[0;34m(\u001b[0m\u001b[0mx\u001b[0m\u001b[0;34m,\u001b[0m \u001b[0mmemo\u001b[0m\u001b[0;34m)\u001b[0m\u001b[0;34m\u001b[0m\u001b[0m\n\u001b[0m\u001b[1;32m    156\u001b[0m     \u001b[0;32melse\u001b[0m\u001b[0;34m:\u001b[0m\u001b[0;34m\u001b[0m\u001b[0m\n\u001b[1;32m    157\u001b[0m         \u001b[0;32mtry\u001b[0m\u001b[0;34m:\u001b[0m\u001b[0;34m\u001b[0m\u001b[0m\n",
      "\u001b[0;32m~/.pyenv/versions/3.5.1/lib/python3.5/copy.py\u001b[0m in \u001b[0;36m_deepcopy_dict\u001b[0;34m(x, memo)\u001b[0m\n\u001b[1;32m    242\u001b[0m     \u001b[0mmemo\u001b[0m\u001b[0;34m[\u001b[0m\u001b[0mid\u001b[0m\u001b[0;34m(\u001b[0m\u001b[0mx\u001b[0m\u001b[0;34m)\u001b[0m\u001b[0;34m]\u001b[0m \u001b[0;34m=\u001b[0m \u001b[0my\u001b[0m\u001b[0;34m\u001b[0m\u001b[0m\n\u001b[1;32m    243\u001b[0m     \u001b[0;32mfor\u001b[0m \u001b[0mkey\u001b[0m\u001b[0;34m,\u001b[0m \u001b[0mvalue\u001b[0m \u001b[0;32min\u001b[0m \u001b[0mx\u001b[0m\u001b[0;34m.\u001b[0m\u001b[0mitems\u001b[0m\u001b[0;34m(\u001b[0m\u001b[0;34m)\u001b[0m\u001b[0;34m:\u001b[0m\u001b[0;34m\u001b[0m\u001b[0m\n\u001b[0;32m--> 244\u001b[0;31m         \u001b[0my\u001b[0m\u001b[0;34m[\u001b[0m\u001b[0mdeepcopy\u001b[0m\u001b[0;34m(\u001b[0m\u001b[0mkey\u001b[0m\u001b[0;34m,\u001b[0m \u001b[0mmemo\u001b[0m\u001b[0;34m)\u001b[0m\u001b[0;34m]\u001b[0m \u001b[0;34m=\u001b[0m \u001b[0mdeepcopy\u001b[0m\u001b[0;34m(\u001b[0m\u001b[0mvalue\u001b[0m\u001b[0;34m,\u001b[0m \u001b[0mmemo\u001b[0m\u001b[0;34m)\u001b[0m\u001b[0;34m\u001b[0m\u001b[0m\n\u001b[0m\u001b[1;32m    245\u001b[0m     \u001b[0;32mreturn\u001b[0m \u001b[0my\u001b[0m\u001b[0;34m\u001b[0m\u001b[0m\n\u001b[1;32m    246\u001b[0m \u001b[0md\u001b[0m\u001b[0;34m[\u001b[0m\u001b[0mdict\u001b[0m\u001b[0;34m]\u001b[0m \u001b[0;34m=\u001b[0m \u001b[0m_deepcopy_dict\u001b[0m\u001b[0;34m\u001b[0m\u001b[0m\n",
      "\u001b[0;32m~/.pyenv/versions/3.5.1/lib/python3.5/copy.py\u001b[0m in \u001b[0;36mdeepcopy\u001b[0;34m(x, memo, _nil)\u001b[0m\n\u001b[1;32m    180\u001b[0m                             raise Error(\n\u001b[1;32m    181\u001b[0m                                 \"un(deep)copyable object of type %s\" % cls)\n\u001b[0;32m--> 182\u001b[0;31m                 \u001b[0my\u001b[0m \u001b[0;34m=\u001b[0m \u001b[0m_reconstruct\u001b[0m\u001b[0;34m(\u001b[0m\u001b[0mx\u001b[0m\u001b[0;34m,\u001b[0m \u001b[0mrv\u001b[0m\u001b[0;34m,\u001b[0m \u001b[0;36m1\u001b[0m\u001b[0;34m,\u001b[0m \u001b[0mmemo\u001b[0m\u001b[0;34m)\u001b[0m\u001b[0;34m\u001b[0m\u001b[0m\n\u001b[0m\u001b[1;32m    183\u001b[0m \u001b[0;34m\u001b[0m\u001b[0m\n\u001b[1;32m    184\u001b[0m     \u001b[0;31m# If is its own copy, don't memoize.\u001b[0m\u001b[0;34m\u001b[0m\u001b[0;34m\u001b[0m\u001b[0m\n",
      "\u001b[0;32m~/.pyenv/versions/3.5.1/lib/python3.5/copy.py\u001b[0m in \u001b[0;36m_reconstruct\u001b[0;34m(x, info, deep, memo)\u001b[0m\n\u001b[1;32m    290\u001b[0m         \u001b[0mdictiter\u001b[0m \u001b[0;34m=\u001b[0m \u001b[0;32mNone\u001b[0m\u001b[0;34m\u001b[0m\u001b[0m\n\u001b[1;32m    291\u001b[0m     \u001b[0;32mif\u001b[0m \u001b[0mdeep\u001b[0m\u001b[0;34m:\u001b[0m\u001b[0;34m\u001b[0m\u001b[0m\n\u001b[0;32m--> 292\u001b[0;31m         \u001b[0margs\u001b[0m \u001b[0;34m=\u001b[0m \u001b[0mdeepcopy\u001b[0m\u001b[0;34m(\u001b[0m\u001b[0margs\u001b[0m\u001b[0;34m,\u001b[0m \u001b[0mmemo\u001b[0m\u001b[0;34m)\u001b[0m\u001b[0;34m\u001b[0m\u001b[0m\n\u001b[0m\u001b[1;32m    293\u001b[0m     \u001b[0my\u001b[0m \u001b[0;34m=\u001b[0m \u001b[0mcallable\u001b[0m\u001b[0;34m(\u001b[0m\u001b[0;34m*\u001b[0m\u001b[0margs\u001b[0m\u001b[0;34m)\u001b[0m\u001b[0;34m\u001b[0m\u001b[0m\n\u001b[1;32m    294\u001b[0m     \u001b[0mmemo\u001b[0m\u001b[0;34m[\u001b[0m\u001b[0mid\u001b[0m\u001b[0;34m(\u001b[0m\u001b[0mx\u001b[0m\u001b[0;34m)\u001b[0m\u001b[0;34m]\u001b[0m \u001b[0;34m=\u001b[0m \u001b[0my\u001b[0m\u001b[0;34m\u001b[0m\u001b[0m\n",
      "\u001b[0;32m~/.pyenv/versions/3.5.1/lib/python3.5/copy.py\u001b[0m in \u001b[0;36mdeepcopy\u001b[0;34m(x, memo, _nil)\u001b[0m\n\u001b[1;32m    153\u001b[0m     \u001b[0mcopier\u001b[0m \u001b[0;34m=\u001b[0m \u001b[0m_deepcopy_dispatch\u001b[0m\u001b[0;34m.\u001b[0m\u001b[0mget\u001b[0m\u001b[0;34m(\u001b[0m\u001b[0mcls\u001b[0m\u001b[0;34m)\u001b[0m\u001b[0;34m\u001b[0m\u001b[0m\n\u001b[1;32m    154\u001b[0m     \u001b[0;32mif\u001b[0m \u001b[0mcopier\u001b[0m\u001b[0;34m:\u001b[0m\u001b[0;34m\u001b[0m\u001b[0m\n\u001b[0;32m--> 155\u001b[0;31m         \u001b[0my\u001b[0m \u001b[0;34m=\u001b[0m \u001b[0mcopier\u001b[0m\u001b[0;34m(\u001b[0m\u001b[0mx\u001b[0m\u001b[0;34m,\u001b[0m \u001b[0mmemo\u001b[0m\u001b[0;34m)\u001b[0m\u001b[0;34m\u001b[0m\u001b[0m\n\u001b[0m\u001b[1;32m    156\u001b[0m     \u001b[0;32melse\u001b[0m\u001b[0;34m:\u001b[0m\u001b[0;34m\u001b[0m\u001b[0m\n\u001b[1;32m    157\u001b[0m         \u001b[0;32mtry\u001b[0m\u001b[0;34m:\u001b[0m\u001b[0;34m\u001b[0m\u001b[0m\n",
      "\u001b[0;32m~/.pyenv/versions/3.5.1/lib/python3.5/copy.py\u001b[0m in \u001b[0;36m_deepcopy_tuple\u001b[0;34m(x, memo)\u001b[0m\n\u001b[1;32m    222\u001b[0m \u001b[0;34m\u001b[0m\u001b[0m\n\u001b[1;32m    223\u001b[0m \u001b[0;32mdef\u001b[0m \u001b[0m_deepcopy_tuple\u001b[0m\u001b[0;34m(\u001b[0m\u001b[0mx\u001b[0m\u001b[0;34m,\u001b[0m \u001b[0mmemo\u001b[0m\u001b[0;34m)\u001b[0m\u001b[0;34m:\u001b[0m\u001b[0;34m\u001b[0m\u001b[0m\n\u001b[0;32m--> 224\u001b[0;31m     \u001b[0my\u001b[0m \u001b[0;34m=\u001b[0m \u001b[0;34m[\u001b[0m\u001b[0mdeepcopy\u001b[0m\u001b[0;34m(\u001b[0m\u001b[0ma\u001b[0m\u001b[0;34m,\u001b[0m \u001b[0mmemo\u001b[0m\u001b[0;34m)\u001b[0m \u001b[0;32mfor\u001b[0m \u001b[0ma\u001b[0m \u001b[0;32min\u001b[0m \u001b[0mx\u001b[0m\u001b[0;34m]\u001b[0m\u001b[0;34m\u001b[0m\u001b[0m\n\u001b[0m\u001b[1;32m    225\u001b[0m     \u001b[0;31m# We're not going to put the tuple in the memo, but it's still important we\u001b[0m\u001b[0;34m\u001b[0m\u001b[0;34m\u001b[0m\u001b[0m\n\u001b[1;32m    226\u001b[0m     \u001b[0;31m# check for it, in case the tuple contains recursive mutable structures.\u001b[0m\u001b[0;34m\u001b[0m\u001b[0;34m\u001b[0m\u001b[0m\n",
      "\u001b[0;32m~/.pyenv/versions/3.5.1/lib/python3.5/copy.py\u001b[0m in \u001b[0;36m<listcomp>\u001b[0;34m(.0)\u001b[0m\n\u001b[1;32m    222\u001b[0m \u001b[0;34m\u001b[0m\u001b[0m\n\u001b[1;32m    223\u001b[0m \u001b[0;32mdef\u001b[0m \u001b[0m_deepcopy_tuple\u001b[0m\u001b[0;34m(\u001b[0m\u001b[0mx\u001b[0m\u001b[0;34m,\u001b[0m \u001b[0mmemo\u001b[0m\u001b[0;34m)\u001b[0m\u001b[0;34m:\u001b[0m\u001b[0;34m\u001b[0m\u001b[0m\n\u001b[0;32m--> 224\u001b[0;31m     \u001b[0my\u001b[0m \u001b[0;34m=\u001b[0m \u001b[0;34m[\u001b[0m\u001b[0mdeepcopy\u001b[0m\u001b[0;34m(\u001b[0m\u001b[0ma\u001b[0m\u001b[0;34m,\u001b[0m \u001b[0mmemo\u001b[0m\u001b[0;34m)\u001b[0m \u001b[0;32mfor\u001b[0m \u001b[0ma\u001b[0m \u001b[0;32min\u001b[0m \u001b[0mx\u001b[0m\u001b[0;34m]\u001b[0m\u001b[0;34m\u001b[0m\u001b[0m\n\u001b[0m\u001b[1;32m    225\u001b[0m     \u001b[0;31m# We're not going to put the tuple in the memo, but it's still important we\u001b[0m\u001b[0;34m\u001b[0m\u001b[0;34m\u001b[0m\u001b[0m\n\u001b[1;32m    226\u001b[0m     \u001b[0;31m# check for it, in case the tuple contains recursive mutable structures.\u001b[0m\u001b[0;34m\u001b[0m\u001b[0;34m\u001b[0m\u001b[0m\n",
      "\u001b[0;32m~/.pyenv/versions/3.5.1/lib/python3.5/copy.py\u001b[0m in \u001b[0;36mdeepcopy\u001b[0;34m(x, memo, _nil)\u001b[0m\n\u001b[1;32m    180\u001b[0m                             raise Error(\n\u001b[1;32m    181\u001b[0m                                 \"un(deep)copyable object of type %s\" % cls)\n\u001b[0;32m--> 182\u001b[0;31m                 \u001b[0my\u001b[0m \u001b[0;34m=\u001b[0m \u001b[0m_reconstruct\u001b[0m\u001b[0;34m(\u001b[0m\u001b[0mx\u001b[0m\u001b[0;34m,\u001b[0m \u001b[0mrv\u001b[0m\u001b[0;34m,\u001b[0m \u001b[0;36m1\u001b[0m\u001b[0;34m,\u001b[0m \u001b[0mmemo\u001b[0m\u001b[0;34m)\u001b[0m\u001b[0;34m\u001b[0m\u001b[0m\n\u001b[0m\u001b[1;32m    183\u001b[0m \u001b[0;34m\u001b[0m\u001b[0m\n\u001b[1;32m    184\u001b[0m     \u001b[0;31m# If is its own copy, don't memoize.\u001b[0m\u001b[0;34m\u001b[0m\u001b[0;34m\u001b[0m\u001b[0m\n",
      "\u001b[0;32m~/.pyenv/versions/3.5.1/lib/python3.5/copy.py\u001b[0m in \u001b[0;36m_reconstruct\u001b[0;34m(x, info, deep, memo)\u001b[0m\n\u001b[1;32m    291\u001b[0m     \u001b[0;32mif\u001b[0m \u001b[0mdeep\u001b[0m\u001b[0;34m:\u001b[0m\u001b[0;34m\u001b[0m\u001b[0m\n\u001b[1;32m    292\u001b[0m         \u001b[0margs\u001b[0m \u001b[0;34m=\u001b[0m \u001b[0mdeepcopy\u001b[0m\u001b[0;34m(\u001b[0m\u001b[0margs\u001b[0m\u001b[0;34m,\u001b[0m \u001b[0mmemo\u001b[0m\u001b[0;34m)\u001b[0m\u001b[0;34m\u001b[0m\u001b[0m\n\u001b[0;32m--> 293\u001b[0;31m     \u001b[0my\u001b[0m \u001b[0;34m=\u001b[0m \u001b[0mcallable\u001b[0m\u001b[0;34m(\u001b[0m\u001b[0;34m*\u001b[0m\u001b[0margs\u001b[0m\u001b[0;34m)\u001b[0m\u001b[0;34m\u001b[0m\u001b[0m\n\u001b[0m\u001b[1;32m    294\u001b[0m     \u001b[0mmemo\u001b[0m\u001b[0;34m[\u001b[0m\u001b[0mid\u001b[0m\u001b[0;34m(\u001b[0m\u001b[0mx\u001b[0m\u001b[0;34m)\u001b[0m\u001b[0;34m]\u001b[0m \u001b[0;34m=\u001b[0m \u001b[0my\u001b[0m\u001b[0;34m\u001b[0m\u001b[0m\n\u001b[1;32m    295\u001b[0m \u001b[0;34m\u001b[0m\u001b[0m\n",
      "\u001b[0;31mKeyboardInterrupt\u001b[0m: "
     ]
    }
   ],
   "source": [
    "corpus = textacy.Corpus(lang='en', docs=docs)"
   ]
  },
  {
   "cell_type": "code",
   "execution_count": 76,
   "metadata": {},
   "outputs": [
    {
     "name": "stdout",
     "output_type": "stream",
     "text": [
      "[t-SNE] Computing 151 nearest neighbors...\n",
      "[t-SNE] Indexed 200 samples in 0.001s...\n",
      "[t-SNE] Computed neighbors for 200 samples in 0.256s...\n",
      "[t-SNE] Computed conditional probabilities for sample 200 / 200\n",
      "[t-SNE] Mean sigma: 29.403405\n",
      "[t-SNE] KL divergence after 250 iterations with early exaggeration: 41.304642\n",
      "[t-SNE] Error after 2250 iterations: 0.723646\n"
     ]
    }
   ],
   "source": [
    "tsne_args = {'n_components': 2, \n",
    "             'perplexity': 50,\n",
    "             'learning_rate': 10,\n",
    "             'verbose': 1, \n",
    "             'random_state':0, \n",
    "             'angle': 0.5,\n",
    "             'init': 'random',\n",
    "             'n_iter': 5000}\n",
    "\n",
    "coords = fit_tsne_on_corpus2(corpus, tsne_args=tsne_args)"
   ]
  },
  {
   "cell_type": "code",
   "execution_count": 77,
   "metadata": {},
   "outputs": [
    {
     "name": "stdout",
     "output_type": "stream",
     "text": [
      "Class 0.0\n"
     ]
    },
    {
     "data": {
      "image/png": "[encoded data removed]",
      "text/plain": [
       "<Figure size 432x288 with 1 Axes>"
      ]
     },
     "metadata": {},
     "output_type": "display_data"
    }
   ],
   "source": [
    "plot_coords(coords)  #, labels=fake_labels.reshape(-1,))"
   ]
  },
  {
   "cell_type": "code",
   "execution_count": null,
   "metadata": {},
   "outputs": [],
   "source": []
  }
 ],
 "metadata": {
  "kernelspec": {
   "display_name": "Python 3",
   "language": "python",
   "name": "python3"
  },
  "language_info": {
   "codemirror_mode": {
    "name": "ipython",
    "version": 3
   },
   "file_extension": ".py",
   "mimetype": "text/x-python",
   "name": "python",
   "nbconvert_exporter": "python",
   "pygments_lexer": "ipython3",
   "version": "3.5.1"
  }
 },
 "nbformat": 4,
 "nbformat_minor": 2
}
