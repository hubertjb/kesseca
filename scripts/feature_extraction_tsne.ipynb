{
 "cells": [
  {
   "cell_type": "markdown",
   "metadata": {},
   "source": [
    "# Extracting features from text file\n",
    "\n",
    "\n",
    "See https://towardsdatascience.com/document-feature-extraction-and-classification-53f0e813d2d3"
   ]
  },
  {
   "cell_type": "code",
   "execution_count": 3,
   "metadata": {},
   "outputs": [],
   "source": [
    "import spacy\n",
    "import textacy\n",
    "\n",
    "import numpy as np\n",
    "from sklearn.feature_extraction import text\n",
    "import seaborn as sns\n",
    "import matplotlib.pyplot as plt\n",
    "%matplotlib inline"
   ]
  },
  {
   "cell_type": "code",
   "execution_count": null,
   "metadata": {},
   "outputs": [],
   "source": [
    "content = \"\"\"That dirty tricks exist in the world of high-stakes politics will come as a surprise to few. Nonetheless, leaders of the global firm Cambridge Analytica captured headlines around the world this week as they breezily discussed the strategies for deception and manipulation of foreign elections on hidden cameras. Cambridge Analytica has been accused of improperly using information from more than 50 million Facebook accounts. The London-based company denies wrongdoing. Cambridge Analytica is best known for its work with Donald Trump's presidential election campaign in 2016. CEO Alexander Nix, unaware he was being recorded, claimed he'd met Trump \"many times\" in a bombshell undercover investigation broadcast Tuesday on Britain's Channel 4 news. A colleague also suggested they created damaging memes targeting Hillary Clinton during the election. Nix was suspended the day after the story aired. The investigation revealed that over the course of four meetings, the journalists used hidden cameras and microphones to record Nix and the company's managing director Mark Turnbull, as they discussed ways to secretly influence Sri Lanka's upcoming national election — something they claim they'd already done in Kenya in 2017.\"\"\"\n",
    "\n",
    "print(content)"
   ]
  },
  {
   "cell_type": "code",
   "execution_count": null,
   "metadata": {},
   "outputs": [],
   "source": [
    "metadata = {'title': 'How Cambridge Analytica stumbled into the spotlight',\n",
    "            'author': 'Diana Swain',\n",
    "            'pub_date': '2018-03-24'}"
   ]
  },
  {
   "cell_type": "markdown",
   "metadata": {},
   "source": [
    "## 1. Using spaCy and textaCy"
   ]
  },
  {
   "cell_type": "code",
   "execution_count": null,
   "metadata": {},
   "outputs": [],
   "source": [
    "doc = textacy.Doc(content, metadata=metadata, lang='en')\n",
    "print(doc)"
   ]
  },
  {
   "cell_type": "code",
   "execution_count": null,
   "metadata": {},
   "outputs": [],
   "source": [
    "doc.to_bag_of_terms(ngrams=2, named_entities=False, lemmatize=True, \n",
    "                    as_strings=True)"
   ]
  },
  {
   "cell_type": "code",
   "execution_count": null,
   "metadata": {},
   "outputs": [],
   "source": [
    "[i for i in textacy.extract.named_entities(doc)]"
   ]
  },
  {
   "cell_type": "markdown",
   "metadata": {},
   "source": [
    "## 2. Using sklearn"
   ]
  },
  {
   "cell_type": "code",
   "execution_count": 4,
   "metadata": {},
   "outputs": [],
   "source": [
    "# Load example dataset\n",
    "categories = ['alt.atheism', 'soc.religion.christian',\n",
    "              'comp.graphics', 'sci.med']\n",
    "\n",
    "from sklearn.datasets import fetch_20newsgroups\n",
    "\n",
    "twenty_train = fetch_20newsgroups(subset='train',\n",
    "    categories=categories, shuffle=True, random_state=42)"
   ]
  },
  {
   "cell_type": "code",
   "execution_count": null,
   "metadata": {},
   "outputs": [],
   "source": [
    "twenty_train.data[1]"
   ]
  },
  {
   "cell_type": "code",
   "execution_count": null,
   "metadata": {},
   "outputs": [],
   "source": [
    "# Raw word counts\n",
    "count_vect = text.CountVectorizer()\n",
    "X_train_counts = count_vect.fit_transform(twenty_train.data)\n",
    "X_train_counts"
   ]
  },
  {
   "cell_type": "code",
   "execution_count": null,
   "metadata": {},
   "outputs": [],
   "source": [
    "# tf-idf\n",
    "tfidf_transformer = text.TfidfTransformer()\n",
    "X_train_tfidf = tfidf_transformer.fit_transform(X_train_counts)\n",
    "X_train_tfidf"
   ]
  },
  {
   "cell_type": "code",
   "execution_count": null,
   "metadata": {},
   "outputs": [],
   "source": [
    "fake_data = X_train_tfidf[:50, :].todense()\n",
    "fake_data[:25, 0] = 0\n",
    "fake_data[25:, 0] = 100\n",
    "fake_data.shape"
   ]
  },
  {
   "cell_type": "code",
   "execution_count": null,
   "metadata": {},
   "outputs": [],
   "source": [
    "# Run t-SNE\n",
    "from sklearn.manifold import TSNE\n",
    "\n",
    "tsne_model = TSNE(n_components=2, verbose=1, random_state=0, angle=.99,\n",
    "                  init='pca')\n",
    "\n",
    "tsne_fit = tsne_model.fit_transform(fake_data)"
   ]
  },
  {
   "cell_type": "code",
   "execution_count": null,
   "metadata": {},
   "outputs": [],
   "source": [
    "# Plot with seaborn\n",
    "\n",
    "sns.regplot(x=tsne_fit[:, 0], y=tsne_fit[:, 1], fit_reg=False)"
   ]
  },
  {
   "cell_type": "markdown",
   "metadata": {},
   "source": [
    "## Make function that automates the whole process\n",
    "\n",
    "Input: list of strings (each element contains one article)\n",
    "Output: array N x 2 containing t-SNE values, array containing labels for "
   ]
  },
  {
   "cell_type": "code",
   "execution_count": 25,
   "metadata": {},
   "outputs": [],
   "source": [
    "from sklearn.feature_extraction import text\n",
    "from sklearn.manifold import TSNE\n",
    "\n",
    "\n",
    "TSNE_ARGS = {'n_components': 2, \n",
    "             'verbose': 1, \n",
    "             'random_state':0, \n",
    "             'angle':.99,\n",
    "             'init': 'pca'}\n",
    "\n",
    "\n",
    "def fit_tsne_on_corpus(corpus, labels=None, tsne_args=TSNE_ARGS):\n",
    "    \"\"\"Fit t-SNE on a text corpus.\n",
    "    \n",
    "    Fit t-SNE on a text corpus.\n",
    "    The following steps are used:\n",
    "    1. Extract word count from each document of the corpus.\n",
    "    2. Transform word counts into tf-idf feature vectors.\n",
    "    3. (Optional) Add labels to the matrix.\n",
    "    4. Run t-SNE.\n",
    "    \n",
    "    Args:\n",
    "        corpus (list of str): list containing `n_docs` strings, where each \n",
    "            string is one document\n",
    "    \n",
    "    Keyword Args:\n",
    "        labels (np.ndarray): labels to include when running t-SNE. Provided as\n",
    "            array of shape (n_docs, n_labels) where each row contains the \n",
    "            labels for a specific document. Labels must be numerical values.  \n",
    "        tsne_args (dict): dictionary of arguments to pass to sklearn's\n",
    "            TSNE function.\n",
    "        \n",
    "    Returns:\n",
    "        (np.ndarray): array of shape (n_docs, 2) containing the t-SNE \n",
    "            coordinates for each document\n",
    "            \n",
    "    TODO:\n",
    "    - Extract better features than tf-idf\n",
    "    - Allow modifying t-SNE's hyperparameters\n",
    "    - Use different t-SNE backend for speed\n",
    "    \"\"\"\n",
    "    \n",
    "    assert isinstance(corpus, list)\n",
    "\n",
    "    count_vect = text.CountVectorizer()\n",
    "    counts = count_vect.fit_transform(corpus)\n",
    "    \n",
    "    tfidf_transformer = text.TfidfTransformer()\n",
    "    tfidf_data = tfidf_transformer.fit_transform(counts).todense()\n",
    "    \n",
    "    if labels is not None:\n",
    "        tfidf_data = np.concatenate([tfidf_data, labels], axis=1)\n",
    "\n",
    "    tsne_model = TSNE(**tsne_args)\n",
    "    tsne_coords = tsne_model.fit_transform(tfidf_data)\n",
    "    \n",
    "    return tsne_coords\n",
    "\n",
    "\n",
    "def plot_coords(coords, labels=None):\n",
    "    \"\"\"Plot coordinates with optional labels.\n",
    "    \n",
    "    Args:\n",
    "        coords (np.ndarray): array of shape (n_points, 2) containing the\n",
    "            coordinates of each point.\n",
    "            \n",
    "    Keyword Args:\n",
    "        labels (np.ndarray): array of shape (n_points,) containing a categorical\n",
    "            label or each point.\n",
    "    \"\"\"\n",
    "    \n",
    "    if labels is None:\n",
    "        labels = np.zeros((coords.shape[0], ))\n",
    "                \n",
    "    classes = np.unique(labels)\n",
    "    cm = sns.color_palette('hls', len(classes))\n",
    "    \n",
    "    fig, ax = plt.subplots()\n",
    "    \n",
    "    for i, c in enumerate(classes):\n",
    "        print('Class {}'.format(c))\n",
    "        ind = labels == c\n",
    "        ax.scatter(coords[ind, 0], coords[ind, 1], s=5, \n",
    "                   color=cm[i], label=c)\n",
    "    ax.legend()\n",
    "        \n",
    "    plt.show()"
   ]
  },
  {
   "cell_type": "code",
   "execution_count": 6,
   "metadata": {},
   "outputs": [
    {
     "name": "stdout",
     "output_type": "stream",
     "text": [
      "[t-SNE] Computing 49 nearest neighbors...\n",
      "[t-SNE] Indexed 50 samples in 0.000s...\n",
      "[t-SNE] Computed neighbors for 50 samples in 0.005s...\n",
      "[t-SNE] Computed conditional probabilities for sample 50 / 50\n",
      "[t-SNE] Mean sigma: 0.615252\n",
      "[t-SNE] KL divergence after 250 iterations with early exaggeration: 47.871647\n",
      "[t-SNE] Error after 1000 iterations: 0.367086\n"
     ]
    }
   ],
   "source": [
    "fake_labels = np.zeros((50, 1))\n",
    "fake_labels[25:, 0] = 1\n",
    "\n",
    "coords = fit_tsne_on_corpus(twenty_train.data[:50], labels=fake_labels)"
   ]
  },
  {
   "cell_type": "code",
   "execution_count": 26,
   "metadata": {},
   "outputs": [
    {
     "name": "stdout",
     "output_type": "stream",
     "text": [
      "Class 0.0\n",
      "Class 1.0\n"
     ]
    },
    {
     "data": {
      "image/png": "[encoded data removed]",
      "text/plain": [
       "<Figure size 432x288 with 1 Axes>"
      ]
     },
     "metadata": {},
     "output_type": "display_data"
    }
   ],
   "source": [
    "plot_coords(coords, labels=fake_labels.reshape(-1,))"
   ]
  }
 ],
 "metadata": {
  "kernelspec": {
   "display_name": "Python 3",
   "language": "python",
   "name": "python3"
  },
  "language_info": {
   "codemirror_mode": {
    "name": "ipython",
    "version": 3
   },
   "file_extension": ".py",
   "mimetype": "text/x-python",
   "name": "python",
   "nbconvert_exporter": "python",
   "pygments_lexer": "ipython3",
   "version": "3.5.1"
  }
 },
 "nbformat": 4,
 "nbformat_minor": 2
}
