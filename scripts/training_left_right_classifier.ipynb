{
 "cells": [
  {
   "cell_type": "markdown",
   "metadata": {},
   "source": [
    "# Training left vs. right classifier\n",
    "\n",
    "This notebook contains the code to train the left vs. right classifier based on a corpus of labelled news articles.\n",
    "\n",
    "The data comes from manual querying of many anglophone news outlets with known (i.e., already labelled) political colour.\n",
    "\n",
    "To train the model, execute all the cells."
   ]
  },
  {
   "cell_type": "markdown",
   "metadata": {},
   "source": [
    "## 1. Load data and add labels"
   ]
  },
  {
   "cell_type": "code",
   "execution_count": 51,
   "metadata": {},
   "outputs": [],
   "source": [
    "import glob\n",
    "import os\n",
    "import codecs\n",
    "import json \n",
    "\n",
    "from joblib import Parallel, delayed\n",
    "import numpy as np\n",
    "import pandas as pd\n",
    "import seaborn as sns\n",
    "import matplotlib.pyplot as plt\n",
    "%matplotlib inline"
   ]
  },
  {
   "cell_type": "code",
   "execution_count": 52,
   "metadata": {},
   "outputs": [],
   "source": [
    "folderpath = '/home/hubert/Documents/kesseca/data/left_right'\n",
    "filepaths = glob.glob(os.path.join(folderpath, '*.json'))"
   ]
  },
  {
   "cell_type": "code",
   "execution_count": 53,
   "metadata": {},
   "outputs": [],
   "source": [
    "# Political spectrum labels\n",
    "political_labels = {\"Breitbart\": 5,\n",
    "                   \"Fox News\": 4,\n",
    "                   \"National Review\": 5,\n",
    "                   \"The Blaze\": 5,\n",
    "                   \"CBN News\": 5,\n",
    "                   \"The Washington Times\": 5,\n",
    "                   \"Townhall\": 5,\n",
    "                   \"ABC News\": 2,\n",
    "                   \"CBS News\": 2,\n",
    "                   \"Daily Beast\": 1,\n",
    "                   \"Huffington Post US\": 1,\n",
    "                   \"The New York Times\": 2,\n",
    "                   \"Politico\": 2,\n",
    "                   \"Salon\": 1,\n",
    "                   \"The Guardian\": 2,\n",
    "                   \"Vox\": 2,\n",
    "                   \"The Washington Post\": 2,\n",
    "                   \"BBC.com\": 3,\n",
    "                   \"Bloomberg\": 3,\n",
    "                   \"CNN\": 3,\n",
    "                   \"NPR\": 3,\n",
    "                   \"Associated Press\": 3,\n",
    "                   \"Reuters\": 3,\n",
    "                   \"Wall Street Journal\": 3,\n",
    "                   \"USA Today\": 3,\n",
    "                   \"The Hill\": 3}"
   ]
  },
  {
   "cell_type": "code",
   "execution_count": 54,
   "metadata": {},
   "outputs": [],
   "source": [
    "# Load the JSON files\n",
    "data = []\n",
    "\n",
    "for path in filepaths:\n",
    "    with codecs.open(path, 'r', encoding='utf8') as f:\n",
    "        data.append(json.load(f))"
   ]
  },
  {
   "cell_type": "code",
   "execution_count": 55,
   "metadata": {},
   "outputs": [],
   "source": [
    "file_origin = [f.split('/')[-1][:-5] for f in filepaths]"
   ]
  },
  {
   "cell_type": "code",
   "execution_count": 57,
   "metadata": {},
   "outputs": [],
   "source": [
    "# Put in a simpler format\n",
    "labels_political = []\n",
    "labels_location = []\n",
    "articles = []\n",
    "\n",
    "for origin, outlet in zip(file_origin, data):\n",
    "    for article in outlet:\n",
    "        try:\n",
    "            labels_political.append(political_labels[origin])\n",
    "#             labels_location.append(article['location'][0]['country'])\n",
    "            articles.append(article['body'])\n",
    "        except:\n",
    "            print('Failed: ' + origin)"
   ]
  },
  {
   "cell_type": "code",
   "execution_count": 58,
   "metadata": {},
   "outputs": [
    {
     "name": "stderr",
     "output_type": "stream",
     "text": [
      "/home/hubert/.pyenv/versions/3.5.1/envs/kesseca/lib/python3.5/site-packages/matplotlib/axes/_axes.py:6462: UserWarning: The 'normed' kwarg is deprecated, and has been replaced by the 'density' kwarg.\n",
      "  warnings.warn(\"The 'normed' kwarg is deprecated, and has been \"\n"
     ]
    },
    {
     "data": {
      "text/plain": [
       "<matplotlib.axes._subplots.AxesSubplot at 0x7fd182d6f080>"
      ]
     },
     "execution_count": 58,
     "metadata": {},
     "output_type": "execute_result"
    },
    {
     "data": {
      "image/png": "[encoded data removed]",
      "text/plain": [
       "<Figure size 432x288 with 1 Axes>"
      ]
     },
     "metadata": {},
     "output_type": "display_data"
    }
   ],
   "source": [
    "sns.distplot(labels_political, kde=False)"
   ]
  },
  {
   "cell_type": "markdown",
   "metadata": {},
   "source": [
    "If we divide into 3 classes (left, center, right) with thresholds of < 3 and > 3, classes are pretty much balanced."
   ]
  },
  {
   "cell_type": "code",
   "execution_count": 59,
   "metadata": {},
   "outputs": [],
   "source": [
    "# Find out if there's is a difference in length\n",
    "y = np.array(labels_political)\n",
    "X = np.array(articles)\n",
    "\n",
    "y_left = y[y < 3]\n",
    "X_left = X[y < 3]\n",
    "\n",
    "y_right = y[y > 3]\n",
    "X_right = X[y > 3]\n",
    "\n",
    "y_center = y[y == 3]\n",
    "X_center = X[y == 3]\n",
    "\n",
    "len_left = [len(x) for x in X_left]\n",
    "len_right = [len(x) for x in X_right]\n",
    "len_center = [len(x) for x in X_center]"
   ]
  },
  {
   "cell_type": "code",
   "execution_count": 10,
   "metadata": {},
   "outputs": [
    {
     "name": "stdout",
     "output_type": "stream",
     "text": [
      "Mean number of characters\n",
      "Left: 5114.7 +/- 4221.4\n",
      "Center: 3136.7 +/- 2483.4\n",
      "Right: 3960.7 +/- 4441.5\n"
     ]
    }
   ],
   "source": [
    "print('Mean number of characters')\n",
    "print('Left: {:0.1f} +/- {:0.1f}'.format(np.mean(len_left), np.std(len_left)))\n",
    "print('Center: {:0.1f} +/- {:0.1f}'.format(np.mean(len_center), np.std(len_center)))\n",
    "print('Right: {:0.1f} +/- {:0.1f}'.format(np.mean(len_right), np.std(len_right)))"
   ]
  },
  {
   "cell_type": "markdown",
   "metadata": {},
   "source": [
    "Left-wing articles are longer than right-wing articles, but Center articles are the shortest of all (with the smallest standard deviation). This could be explained by the fact that many center news outlets (e.g., Reuters, Bloomberg, etc.) typically publish short, to-the-point, factual articles."
   ]
  },
  {
   "cell_type": "markdown",
   "metadata": {},
   "source": [
    "## 2. Preprocess text"
   ]
  },
  {
   "cell_type": "code",
   "execution_count": 169,
   "metadata": {},
   "outputs": [],
   "source": [
    "from sklearn.pipeline import Pipeline\n",
    "from sklearn.feature_extraction import text\n",
    "from sklearn.linear_model import LogisticRegression\n",
    "\n",
    "text_clf = Pipeline([('vect', text.CountVectorizer(stop_words='english', ngram_range=(1, 2))),\n",
    "                     ('tfidf', text.TfidfTransformer(sublinear_tf=True)),\n",
    "                     ('clf', LogisticRegression(class_weight='balanced', C=100))])"
   ]
  },
  {
   "cell_type": "code",
   "execution_count": 170,
   "metadata": {},
   "outputs": [],
   "source": [
    "# Just keep extreme examples\n",
    "y_raw = np.array(labels_political)\n",
    "y = y_raw\n",
    "y[y < 3] = 0\n",
    "y[y == 3] = 1\n",
    "y[y > 3] = 2"
   ]
  },
  {
   "cell_type": "code",
   "execution_count": 171,
   "metadata": {},
   "outputs": [],
   "source": [
    "# Remove words that shouldn't be descriptive, like news outlet names\n",
    "banned_words = list(political_labels.keys())\n",
    "banned_words_lower = [i.lower() for i in banned_words]\n",
    "banned_words_upper = [i.upper() for i in banned_words]\n",
    "banned_words = banned_words + banned_words_lower + banned_words_upper\n",
    "\n",
    "X = []\n",
    "\n",
    "for article in articles:\n",
    "    for word in banned_words:\n",
    "        article = article.replace(word, '')\n",
    "    assert 'Reuters' not in article\n",
    "    X.append(article)\n",
    "    \n",
    "X = np.array(X)"
   ]
  },
  {
   "cell_type": "code",
   "execution_count": 172,
   "metadata": {},
   "outputs": [],
   "source": [
    "# Remove center for training binary classifier\n",
    "ind = y != 1\n",
    "y = y[ind]\n",
    "X = X[ind]"
   ]
  },
  {
   "cell_type": "code",
   "execution_count": 173,
   "metadata": {},
   "outputs": [
    {
     "data": {
      "text/plain": [
       "array([0.813125, 0.829375, 0.8325  , 0.83375 ])"
      ]
     },
     "execution_count": 173,
     "metadata": {},
     "output_type": "execute_result"
    }
   ],
   "source": [
    "# Find best value for C hyperparameter (then update the value above!)\n",
    "from sklearn.model_selection import GridSearchCV\n",
    "\n",
    "C_OPTIONS = [1, 10, 100, 1000]\n",
    "param_grid = [{'clf__C': C_OPTIONS}]\n",
    "grid = GridSearchCV(text_clf, cv=5, n_jobs=-1, param_grid=param_grid)\n",
    "grid.fit(X, y)\n",
    "\n",
    "mean_scores = np.array(grid.cv_results_['mean_test_score'])\n",
    "mean_scores"
   ]
  },
  {
   "cell_type": "code",
   "execution_count": 174,
   "metadata": {},
   "outputs": [],
   "source": [
    "# Predict on 25% of the data to print the confusion matrix\n",
    "from sklearn.model_selection import train_test_split\n",
    "\n",
    "X_train, X_test, y_train, y_test = train_test_split(\n",
    "    X, y, test_size=0.25, random_state=0, shuffle=True)\n",
    "\n",
    "text_clf.fit(X_train, y_train)\n",
    "y_pred = text_clf.predict(X_test)"
   ]
  },
  {
   "cell_type": "code",
   "execution_count": 175,
   "metadata": {},
   "outputs": [
    {
     "data": {
      "image/png": "[encoded data removed]",
      "text/plain": [
       "<Figure size 720x720 with 2 Axes>"
      ]
     },
     "metadata": {},
     "output_type": "display_data"
    }
   ],
   "source": [
    "from sklearn.metrics import confusion_matrix\n",
    "\n",
    "conf_mat = confusion_matrix(y_test, y_pred)\n",
    "fig, ax = plt.subplots(figsize=(10, 10))\n",
    "sns.heatmap(conf_mat, annot=True, fmt='d')\n",
    "#             xticklabels=category_id_df.Product.values, yticklabels=category_id_df.Product.values)\n",
    "plt.ylabel('Actual')\n",
    "plt.xlabel('Predicted')\n",
    "plt.show()"
   ]
  },
  {
   "cell_type": "markdown",
   "metadata": {},
   "source": [
    "This is not bad. Most articles are well classified into right/left-wing classes."
   ]
  },
  {
   "cell_type": "code",
   "execution_count": 211,
   "metadata": {},
   "outputs": [
    {
     "data": {
      "text/plain": [
       "0.8325000000000001"
      ]
     },
     "execution_count": 211,
     "metadata": {},
     "output_type": "execute_result"
    }
   ],
   "source": [
    "# Compute accuracy\n",
    "from sklearn.model_selection import cross_val_score\n",
    "\n",
    "accuracies = cross_val_score(text_clf, X, y, scoring='accuracy', cv=5)\n",
    "np.mean(accuracies)"
   ]
  },
  {
   "cell_type": "code",
   "execution_count": 177,
   "metadata": {},
   "outputs": [
    {
     "data": {
      "text/plain": [
       "(1, 420161)"
      ]
     },
     "execution_count": 177,
     "metadata": {},
     "output_type": "execute_result"
    }
   ],
   "source": [
    "# See what terms are used to distinguish both classes...\n",
    "count_transformer = text_clf.get_params()['vect']\n",
    "tfidf_transformer = text_clf.get_params()['tfidf']\n",
    "clf = text_clf.get_params()['clf']"
   ]
  },
  {
   "cell_type": "code",
   "execution_count": 178,
   "metadata": {},
   "outputs": [],
   "source": [
    "ind = np.argsort(clf.coef_)[0]\n",
    "best_words = []\n",
    "\n",
    "for i in np.concatenate((ind[:10], ind[-10:])):\n",
    "    for key, value in count_transformer.vocabulary_.items():\n",
    "        if value == i:\n",
    "            best_words.append((key, clf.coef_[0, i]))"
   ]
  },
  {
   "cell_type": "code",
   "execution_count": 220,
   "metadata": {
    "scrolled": true
   },
   "outputs": [
    {
     "name": "stdout",
     "output_type": "stream",
     "text": [
      "Most useful left-wing words:\n",
      "('mr trump', -6.381511273309706)\n",
      "('mr', -5.251945317308609)\n",
      "('staff', -4.432987903340318)\n",
      "('sign', -4.145361039566802)\n",
      "('story', -3.9514843705111655)\n",
      "('official', -3.615083813726144)\n",
      "('night', -3.4199985330737297)\n",
      "('morning', -3.330043675085305)\n",
      "('latest', -3.3097011511690906)\n",
      "('mueller', -3.3040868763180042)\n",
      "\n",
      "Most useful right-wing words:\n",
      "('clinton', 4.4655503438774)\n",
      "('israel', 4.517512246272596)\n",
      "('comments', 4.601178462761434)\n",
      "('fisa', 4.666932398218234)\n",
      "('illegal immigrants', 4.678372023719681)\n",
      "('disqus', 4.901217815648771)\n",
      "('2018', 5.118284696352687)\n",
      "('illegal', 5.8437634490352846)\n",
      "('president trump', 5.970484470628693)\n",
      "('com', 6.149409949326807)\n"
     ]
    }
   ],
   "source": [
    "print('Most useful left-wing words:')\n",
    "[print(i) for i in best_words[:10]];\n",
    "\n",
    "print('\\nMost useful right-wing words:')\n",
    "[print(i) for i in best_words[-10:]];"
   ]
  },
  {
   "cell_type": "markdown",
   "metadata": {},
   "source": [
    "## Testing on actual data - different versions of the same news\n",
    "\n",
    "This data was fetched using the Kesseca pipeline - it consists in one translated Radio-Canada article, and of several other articles on the same topic found by the pipeline."
   ]
  },
  {
   "cell_type": "code",
   "execution_count": 181,
   "metadata": {},
   "outputs": [],
   "source": [
    "rc_path = '/home/hubert/Documents/kesseca/data/five_articles/trump_firearm/rc.json'\n",
    "outlet_path = '/home/hubert/Documents/kesseca/data/five_articles/trump_firearm/outlets.json'\n",
    "\n",
    "# Load the files\n",
    "with codecs.open(rc_path, 'r', encoding='utf8') as f:\n",
    "    rc_text = f.read()\n",
    "    \n",
    "with codecs.open(outlet_path, 'r', encoding='utf8') as f:\n",
    "    outlet_text = json.load(f)\n",
    "    \n",
    "outlet_text['Radio-Canada'] = rc_text"
   ]
  },
  {
   "cell_type": "code",
   "execution_count": 223,
   "metadata": {},
   "outputs": [
    {
     "name": "stdout",
     "output_type": "stream",
     "text": [
      "Outlet - P(right-wing)\n",
      "======================\n",
      "Politico - EU - 0.05676594126396215\n",
      "Huffington Post US - 0.11142206642495787\n",
      "USA Today - 0.07747680897054683\n",
      "Wall Street Journal - 0.042862904949519325\n",
      "Breitbart - 0.7137867738008166\n",
      "Townhall - 0.9535619890315651\n",
      "The Guardian - 0.06533627548549643\n",
      "The Blaze - 0.38986101222865976\n",
      "Daily Beast - 0.8028172470721607\n",
      "The New York Times - 0.1482541547673449\n",
      "Fox News - 0.8633440664569921\n",
      "The Washington Post - 0.1544099276204683\n",
      "Salon - 0.1182231854736531\n",
      "CNN - 0.22255902542250272\n",
      "Radio-Canada - 0.018787386183719442\n",
      "Vox - 0.7741475446300728\n",
      "Associated Press - 0.3066640079732325\n",
      "ABC News Australia - 0.039707012427628946\n",
      "CBN News - 0.4795945163477292\n",
      "The Hill - 0.11419557817387108\n",
      "Reuters - 0.2143615816076542\n",
      "Bloomberg - 0.1415275372678159\n",
      "ABC News - 0.09267507610392493\n"
     ]
    }
   ],
   "source": [
    "labels = []\n",
    "values = []\n",
    "for key, value in outlet_text.items():\n",
    "    labels.append(key)\n",
    "    values.append(value)\n",
    "    \n",
    "y_pred = text_clf.predict_proba(values)\n",
    "\n",
    "print('Outlet - P(right-wing)')\n",
    "print('======================')\n",
    "[print(i, '-', j[1]) for i, j in zip(labels, y_pred)];"
   ]
  },
  {
   "cell_type": "markdown",
   "metadata": {},
   "source": [
    "## Save model and make it a function"
   ]
  },
  {
   "cell_type": "code",
   "execution_count": 194,
   "metadata": {},
   "outputs": [
    {
     "data": {
      "text/plain": [
       "['left_right_clf.pkl']"
      ]
     },
     "execution_count": 194,
     "metadata": {},
     "output_type": "execute_result"
    }
   ],
   "source": [
    "# Save pipeline model to disk\n",
    "from sklearn.externals import joblib\n",
    "\n",
    "joblib.dump(text_clf, 'left_right_clf.pkl') "
   ]
  },
  {
   "cell_type": "code",
   "execution_count": 209,
   "metadata": {},
   "outputs": [],
   "source": [
    "from sklearn.externals import joblib\n",
    "\n",
    "def classify_left_right(article, clf=None):\n",
    "    \"\"\"Classify an article as being left-wing or right-wing.\n",
    "    \n",
    "    Args:\n",
    "        article (str or list of str): body of the article(s)\n",
    "        \n",
    "    Keyword Args:\n",
    "        clf (sklearn.Pipeline): pipeline object containing the \n",
    "            classification pipeline to run on the text. If not\n",
    "            provided, will attempt to load automatically from the\n",
    "            same directory.\n",
    "        \n",
    "    Returns:\n",
    "        (float): probability of the article having a right-wing\n",
    "            bias\n",
    "    \"\"\"\n",
    "    if clf is None:\n",
    "        clf = joblib.load('left_right_clf.pkl')\n",
    "    \n",
    "    if isinstance(article, str):\n",
    "        article = [article]\n",
    "    \n",
    "    y_pred = clf.predict_proba(article)[:, 1]\n",
    "    \n",
    "    return y_pred"
   ]
  },
  {
   "cell_type": "code",
   "execution_count": 210,
   "metadata": {},
   "outputs": [
    {
     "data": {
      "text/plain": [
       "array([0.01878739])"
      ]
     },
     "execution_count": 210,
     "metadata": {},
     "output_type": "execute_result"
    }
   ],
   "source": [
    "clf = joblib.load('left_right_clf.pkl')\n",
    "\n",
    "classify_left_right(outlet_text['Radio-Canada'], clf=clf)"
   ]
  }
 ],
 "metadata": {
  "kernelspec": {
   "display_name": "Python 3",
   "language": "python",
   "name": "python3"
  },
  "language_info": {
   "codemirror_mode": {
    "name": "ipython",
    "version": 3
   },
   "file_extension": ".py",
   "mimetype": "text/x-python",
   "name": "python",
   "nbconvert_exporter": "python",
   "pygments_lexer": "ipython3",
   "version": "3.5.1"
  }
 },
 "nbformat": 4,
 "nbformat_minor": 2
}
