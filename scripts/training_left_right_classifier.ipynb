{
 "cells": [
  {
   "cell_type": "markdown",
   "metadata": {},
   "source": [
    "# Training left vs. right classifier\n",
    "\n",
    "This notebook contains the code to train the left vs. right classifier based on a corpus of labelled news articles.\n",
    "\n",
    "The data comes from manual querying of many anglophone news outlets with known (i.e., already labelled) political colour.\n",
    "\n",
    "To train the model, execute all the cells."
   ]
  },
  {
   "cell_type": "markdown",
   "metadata": {},
   "source": [
    "## 1. Load data and add labels"
   ]
  },
  {
   "cell_type": "code",
   "execution_count": 51,
   "metadata": {},
   "outputs": [],
   "source": [
    "import glob\n",
    "import os\n",
    "import codecs\n",
    "import json \n",
    "\n",
    "from joblib import Parallel, delayed\n",
    "import numpy as np\n",
    "import pandas as pd\n",
    "import seaborn as sns\n",
    "import matplotlib.pyplot as plt\n",
    "%matplotlib inline"
   ]
  },
  {
   "cell_type": "code",
   "execution_count": 52,
   "metadata": {},
   "outputs": [],
   "source": [
    "folderpath = '/home/hubert/Documents/kesseca/data/left_right'\n",
    "filepaths = glob.glob(os.path.join(folderpath, '*.json'))"
   ]
  },
  {
   "cell_type": "code",
   "execution_count": 53,
   "metadata": {},
   "outputs": [],
   "source": [
    "# Political spectrum labels\n",
    "political_labels = {\"Breitbart\": 5,\n",
    "                   \"Fox News\": 4,\n",
    "                   \"National Review\": 5,\n",
    "                   \"The Blaze\": 5,\n",
    "                   \"CBN News\": 5,\n",
    "                   \"The Washington Times\": 5,\n",
    "                   \"Townhall\": 5,\n",
    "                   \"ABC News\": 2,\n",
    "                   \"CBS News\": 2,\n",
    "                   \"Daily Beast\": 1,\n",
    "                   \"Huffington Post US\": 1,\n",
    "                   \"The New York Times\": 2,\n",
    "                   \"Politico\": 2,\n",
    "                   \"Salon\": 1,\n",
    "                   \"The Guardian\": 2,\n",
    "                   \"Vox\": 2,\n",
    "                   \"The Washington Post\": 2,\n",
    "                   \"BBC.com\": 3,\n",
    "                   \"Bloomberg\": 3,\n",
    "                   \"CNN\": 3,\n",
    "                   \"NPR\": 3,\n",
    "                   \"Associated Press\": 3,\n",
    "                   \"Reuters\": 3,\n",
    "                   \"Wall Street Journal\": 3,\n",
    "                   \"USA Today\": 3,\n",
    "                   \"The Hill\": 3}"
   ]
  },
  {
   "cell_type": "code",
   "execution_count": 54,
   "metadata": {},
   "outputs": [],
   "source": [
    "# Load the JSON files\n",
    "data = []\n",
    "\n",
    "for path in filepaths:\n",
    "    with codecs.open(path, 'r', encoding='utf8') as f:\n",
    "        data.append(json.load(f))"
   ]
  },
  {
   "cell_type": "code",
   "execution_count": 55,
   "metadata": {},
   "outputs": [],
   "source": [
    "file_origin = [f.split('/')[-1][:-5] for f in filepaths]"
   ]
  },
  {
   "cell_type": "code",
   "execution_count": 57,
   "metadata": {},
   "outputs": [],
   "source": [
    "# Put in a simpler format\n",
    "labels_political = []\n",
    "labels_location = []\n",
    "articles = []\n",
    "\n",
    "for origin, outlet in zip(file_origin, data):\n",
    "    for article in outlet:\n",
    "        try:\n",
    "            labels_political.append(political_labels[origin])\n",
    "#             labels_location.append(article['location'][0]['country'])\n",
    "            articles.append(article['body'])\n",
    "        except:\n",
    "            print('Failed: ' + origin)"
   ]
  },
  {
   "cell_type": "code",
   "execution_count": 58,
   "metadata": {},
   "outputs": [
    {
     "name": "stderr",
     "output_type": "stream",
     "text": [
      "/home/hubert/.pyenv/versions/3.5.1/envs/kesseca/lib/python3.5/site-packages/matplotlib/axes/_axes.py:6462: UserWarning: The 'normed' kwarg is deprecated, and has been replaced by the 'density' kwarg.\n",
      "  warnings.warn(\"The 'normed' kwarg is deprecated, and has been \"\n"
     ]
    },
    {
     "data": {
      "text/plain": [
       "<matplotlib.axes._subplots.AxesSubplot at 0x7fd182d6f080>"
      ]
     },
     "execution_count": 58,
     "metadata": {},
     "output_type": "execute_result"
    },
    {
     "data": {
      "image/png": "[encoded data removed]",
      "text/plain": [
       "<Figure size 432x288 with 1 Axes>"
      ]
     },
     "metadata": {},
     "output_type": "display_data"
    }
   ],
   "source": [
    "sns.distplot(labels_political, kde=False)"
   ]
  },
  {
   "cell_type": "markdown",
   "metadata": {},
   "source": [
    "If we divide into 3 classes (left, center, right) with thresholds of < 3 and > 3, classes are pretty much balanced."
   ]
  },
  {
   "cell_type": "code",
   "execution_count": 59,
   "metadata": {},
   "outputs": [],
   "source": [
    "# Find out if there's is a difference in length\n",
    "y = np.array(labels_political)\n",
    "X = np.array(articles)\n",
    "\n",
    "y_left = y[y < 3]\n",
    "X_left = X[y < 3]\n",
    "\n",
    "y_right = y[y > 3]\n",
    "X_right = X[y > 3]\n",
    "\n",
    "y_center = y[y == 3]\n",
    "X_center = X[y == 3]\n",
    "\n",
    "len_left = [len(x) for x in X_left]\n",
    "len_right = [len(x) for x in X_right]\n",
    "len_center = [len(x) for x in X_center]"
   ]
  },
  {
   "cell_type": "code",
   "execution_count": 10,
   "metadata": {},
   "outputs": [
    {
     "name": "stdout",
     "output_type": "stream",
     "text": [
      "Mean number of characters\n",
      "Left: 5114.7 +/- 4221.4\n",
      "Center: 3136.7 +/- 2483.4\n",
      "Right: 3960.7 +/- 4441.5\n"
     ]
    }
   ],
   "source": [
    "print('Mean number of characters')\n",
    "print('Left: {:0.1f} +/- {:0.1f}'.format(np.mean(len_left), np.std(len_left)))\n",
    "print('Center: {:0.1f} +/- {:0.1f}'.format(np.mean(len_center), np.std(len_center)))\n",
    "print('Right: {:0.1f} +/- {:0.1f}'.format(np.mean(len_right), np.std(len_right)))"
   ]
  },
  {
   "cell_type": "markdown",
   "metadata": {},
   "source": [
    "Left-wing articles are longer than right-wing articles, but Center articles are the shortest of all (with the smallest standard deviation). This could be explained by the fact that many center news outlets (e.g., Reuters, Bloomberg, etc.) typically publish short, to-the-point, factual articles."
   ]
  },
  {
   "cell_type": "markdown",
   "metadata": {},
   "source": [
    "## 2. Preprocess text"
   ]
  },
  {
   "cell_type": "code",
   "execution_count": 169,
   "metadata": {},
   "outputs": [],
   "source": [
    "from sklearn.pipeline import Pipeline\n",
    "from sklearn.feature_extraction import text\n",
    "from sklearn.linear_model import LogisticRegression\n",
    "\n",
    "text_clf = Pipeline([('vect', text.CountVectorizer(stop_words='english', ngram_range=(1, 2))),\n",
    "                     ('tfidf', text.TfidfTransformer(sublinear_tf=True)),\n",
    "                     ('clf', LogisticRegression(class_weight='balanced', C=100))])"
   ]
  },
  {
   "cell_type": "code",
   "execution_count": 170,
   "metadata": {},
   "outputs": [],
   "source": [
    "# Just keep extreme examples\n",
    "y_raw = np.array(labels_political)\n",
    "y = y_raw\n",
    "y[y < 3] = 0\n",
    "y[y == 3] = 1\n",
    "y[y > 3] = 2"
   ]
  },
  {
   "cell_type": "code",
   "execution_count": 171,
   "metadata": {},
   "outputs": [],
   "source": [
    "# Remove words that shouldn't be descriptive, like news outlet names\n",
    "banned_words = list(political_labels.keys())\n",
    "banned_words_lower = [i.lower() for i in banned_words]\n",
    "banned_words_upper = [i.upper() for i in banned_words]\n",
    "banned_words = banned_words + banned_words_lower + banned_words_upper\n",
    "\n",
    "X = []\n",
    "\n",
    "for article in articles:\n",
    "    for word in banned_words:\n",
    "        article = article.replace(word, '')\n",
    "    assert 'Reuters' not in article\n",
    "    X.append(article)\n",
    "    \n",
    "X = np.array(X)"
   ]
  },
  {
   "cell_type": "code",
   "execution_count": 172,
   "metadata": {},
   "outputs": [],
   "source": [
    "# Remove center for training binary classifier\n",
    "ind = y != 1\n",
    "y = y[ind]\n",
    "X = X[ind]"
   ]
  },
  {
   "cell_type": "code",
   "execution_count": 173,
   "metadata": {},
   "outputs": [
    {
     "data": {
      "text/plain": [
       "array([0.813125, 0.829375, 0.8325  , 0.83375 ])"
      ]
     },
     "execution_count": 173,
     "metadata": {},
     "output_type": "execute_result"
    }
   ],
   "source": [
    "# Find best value for C hyperparameter (then update the value above!)\n",
    "from sklearn.model_selection import GridSearchCV\n",
    "\n",
    "C_OPTIONS = [1, 10, 100, 1000]\n",
    "param_grid = [{'clf__C': C_OPTIONS}]\n",
    "grid = GridSearchCV(text_clf, cv=5, n_jobs=-1, param_grid=param_grid)\n",
    "grid.fit(X, y)\n",
    "\n",
    "mean_scores = np.array(grid.cv_results_['mean_test_score'])\n",
    "mean_scores"
   ]
  },
  {
   "cell_type": "code",
   "execution_count": 174,
   "metadata": {},
   "outputs": [],
   "source": [
    "# Predict on 25% of the data to print the confusion matrix\n",
    "from sklearn.model_selection import train_test_split\n",
    "\n",
    "X_train, X_test, y_train, y_test = train_test_split(\n",
    "    X, y, test_size=0.25, random_state=0, shuffle=True)\n",
    "\n",
    "text_clf.fit(X_train, y_train)\n",
    "y_pred = text_clf.predict(X_test)"
   ]
  },
  {
   "cell_type": "code",
   "execution_count": 175,
   "metadata": {},
   "outputs": [
    {
     "data": {
      "image/png": "[encoded data removed]",
      "text/plain": [
       "<Figure size 720x720 with 2 Axes>"
      ]
     },
     "metadata": {},
     "output_type": "display_data"
    }
   ],
   "source": [
    "from sklearn.metrics import confusion_matrix\n",
    "\n",
    "conf_mat = confusion_matrix(y_test, y_pred)\n",
    "fig, ax = plt.subplots(figsize=(10, 10))\n",
    "sns.heatmap(conf_mat, annot=True, fmt='d')\n",
    "#             xticklabels=category_id_df.Product.values, yticklabels=category_id_df.Product.values)\n",
    "plt.ylabel('Actual')\n",
    "plt.xlabel('Predicted')\n",
    "plt.show()"
   ]
  },
  {
   "cell_type": "markdown",
   "metadata": {},
   "source": [
    "This is not bad. Most articles are well classified into right/left-wing classes."
   ]
  },
  {
   "cell_type": "code",
   "execution_count": 211,
   "metadata": {},
   "outputs": [
    {
     "data": {
      "text/plain": [
       "0.8325000000000001"
      ]
     },
     "execution_count": 211,
     "metadata": {},
     "output_type": "execute_result"
    }
   ],
   "source": [
    "# Compute accuracy\n",
    "from sklearn.model_selection import cross_val_score\n",
    "\n",
    "accuracies = cross_val_score(text_clf, X, y, scoring='accuracy', cv=5)\n",
    "np.mean(accuracies)"
   ]
  },
  {
   "cell_type": "code",
   "execution_count": 177,
   "metadata": {},
   "outputs": [
    {
     "data": {
      "text/plain": [
       "(1, 420161)"
      ]
     },
     "execution_count": 177,
     "metadata": {},
     "output_type": "execute_result"
    }
   ],
   "source": [
    "# See what terms are used to distinguish both classes...\n",
    "count_transformer = text_clf.get_params()['vect']\n",
    "tfidf_transformer = text_clf.get_params()['tfidf']\n",
    "clf = text_clf.get_params()['clf']"
   ]
  },
  {
   "cell_type": "code",
   "execution_count": 178,
   "metadata": {},
   "outputs": [],
   "source": [
    "ind = np.argsort(clf.coef_)[0]\n",
    "best_words = []\n",
    "\n",
    "for i in np.concatenate((ind[:10], ind[-10:])):\n",
    "    for key, value in count_transformer.vocabulary_.items():\n",
    "        if value == i:\n",
    "            best_words.append((key, clf.coef_[0, i]))"
   ]
  },
  {
   "cell_type": "code",
   "execution_count": 220,
   "metadata": {
    "scrolled": true
   },
   "outputs": [
    {
     "name": "stdout",
     "output_type": "stream",
     "text": [
      "Most useful left-wing words:\n",
      "('mr trump', -6.381511273309706)\n",
      "('mr', -5.251945317308609)\n",
      "('staff', -4.432987903340318)\n",
      "('sign', -4.145361039566802)\n",
      "('story', -3.9514843705111655)\n",
      "('official', -3.615083813726144)\n",
      "('night', -3.4199985330737297)\n",
      "('morning', -3.330043675085305)\n",
      "('latest', -3.3097011511690906)\n",
      "('mueller', -3.3040868763180042)\n",
      "\n",
      "Most useful right-wing words:\n",
      "('clinton', 4.4655503438774)\n",
      "('israel', 4.517512246272596)\n",
      "('comments', 4.601178462761434)\n",
      "('fisa', 4.666932398218234)\n",
      "('illegal immigrants', 4.678372023719681)\n",
      "('disqus', 4.901217815648771)\n",
      "('2018', 5.118284696352687)\n",
      "('illegal', 5.8437634490352846)\n",
      "('president trump', 5.970484470628693)\n",
      "('com', 6.149409949326807)\n"
     ]
    }
   ],
   "source": [
    "print('Most useful left-wing words:')\n",
    "[print(i) for i in best_words[:10]];\n",
    "\n",
    "print('\\nMost useful right-wing words:')\n",
    "[print(i) for i in best_words[-10:]];"
   ]
  },
  {
   "cell_type": "markdown",
   "metadata": {},
   "source": [
    "The most useful words mostly make sense. The distinction between 'Mr. Trump' on the left side and 'President Trump' on the right side, could very well be due to the perception each group has of Donald Trump. Other terms, mostly on the right-wing side, also seem to make sense. e.g., 'illegal'. "
   ]
  },
  {
   "cell_type": "markdown",
   "metadata": {},
   "source": [
    "## Testing on actual data - different versions of the same news\n",
    "\n",
    "This data was fetched using the Kesseca pipeline - it consists in one translated Radio-Canada article, and of several other articles on the same topic found by the pipeline."
   ]
  },
  {
   "cell_type": "code",
   "execution_count": 181,
   "metadata": {},
   "outputs": [],
   "source": [
    "rc_path = '/home/hubert/Documents/kesseca/data/five_articles/trump_firearm/rc.json'\n",
    "outlet_path = '/home/hubert/Documents/kesseca/data/five_articles/trump_firearm/outlets.json'\n",
    "\n",
    "# Load the files\n",
    "with codecs.open(rc_path, 'r', encoding='utf8') as f:\n",
    "    rc_text = f.read()\n",
    "    \n",
    "with codecs.open(outlet_path, 'r', encoding='utf8') as f:\n",
    "    outlet_text = json.load(f)\n",
    "    \n",
    "outlet_text['Radio-Canada'] = rc_text"
   ]
  },
  {
   "cell_type": "code",
   "execution_count": 223,
   "metadata": {},
   "outputs": [
    {
     "name": "stdout",
     "output_type": "stream",
     "text": [
      "Outlet - P(right-wing)\n",
      "======================\n",
      "Politico - EU - 0.05676594126396215\n",
      "Huffington Post US - 0.11142206642495787\n",
      "USA Today - 0.07747680897054683\n",
      "Wall Street Journal - 0.042862904949519325\n",
      "Breitbart - 0.7137867738008166\n",
      "Townhall - 0.9535619890315651\n",
      "The Guardian - 0.06533627548549643\n",
      "The Blaze - 0.38986101222865976\n",
      "Daily Beast - 0.8028172470721607\n",
      "The New York Times - 0.1482541547673449\n",
      "Fox News - 0.8633440664569921\n",
      "The Washington Post - 0.1544099276204683\n",
      "Salon - 0.1182231854736531\n",
      "CNN - 0.22255902542250272\n",
      "Radio-Canada - 0.018787386183719442\n",
      "Vox - 0.7741475446300728\n",
      "Associated Press - 0.3066640079732325\n",
      "ABC News Australia - 0.039707012427628946\n",
      "CBN News - 0.4795945163477292\n",
      "The Hill - 0.11419557817387108\n",
      "Reuters - 0.2143615816076542\n",
      "Bloomberg - 0.1415275372678159\n",
      "ABC News - 0.09267507610392493\n"
     ]
    }
   ],
   "source": [
    "labels = []\n",
    "values = []\n",
    "for key, value in outlet_text.items():\n",
    "    labels.append(key)\n",
    "    values.append(value)\n",
    "    \n",
    "y_pred = text_clf.predict_proba(values)\n",
    "\n",
    "print('Outlet - P(right-wing)')\n",
    "print('======================')\n",
    "[print(i, '-', j[1]) for i, j in zip(labels, y_pred)];"
   ]
  },
  {
   "cell_type": "markdown",
   "metadata": {},
   "source": [
    "The index, although not perfect, usually reflects the expected right/left wing bias of each news outlet. "
   ]
  },
  {
   "cell_type": "markdown",
   "metadata": {},
   "source": [
    "## Save model and make it a function"
   ]
  },
  {
   "cell_type": "code",
   "execution_count": 194,
   "metadata": {},
   "outputs": [
    {
     "data": {
      "text/plain": [
       "['left_right_clf.pkl']"
      ]
     },
     "execution_count": 194,
     "metadata": {},
     "output_type": "execute_result"
    }
   ],
   "source": [
    "# Save pipeline model to disk\n",
    "from sklearn.externals import joblib\n",
    "\n",
    "joblib.dump(text_clf, 'left_right_clf.pkl') "
   ]
  },
  {
   "cell_type": "code",
   "execution_count": 209,
   "metadata": {},
   "outputs": [],
   "source": [
    "from sklearn.externals import joblib\n",
    "\n",
    "def classify_left_right(article, clf=None):\n",
    "    \"\"\"Classify an article as being left-wing or right-wing.\n",
    "    \n",
    "    Args:\n",
    "        article (str or list of str): body of the article(s)\n",
    "        \n",
    "    Keyword Args:\n",
    "        clf (sklearn.Pipeline): pipeline object containing the \n",
    "            classification pipeline to run on the text. If not\n",
    "            provided, will attempt to load automatically from the\n",
    "            same directory.\n",
    "        \n",
    "    Returns:\n",
    "        (float): probability of the article having a right-wing\n",
    "            bias\n",
    "    \"\"\"\n",
    "    if clf is None:\n",
    "        clf = joblib.load('left_right_clf.pkl')\n",
    "    \n",
    "    if isinstance(article, str):\n",
    "        article = [article]\n",
    "    \n",
    "    y_pred = clf.predict_proba(article)[:, 1]\n",
    "    \n",
    "    return y_pred"
   ]
  },
  {
   "cell_type": "code",
   "execution_count": 210,
   "metadata": {},
   "outputs": [
    {
     "data": {
      "text/plain": [
       "array([0.01878739])"
      ]
     },
     "execution_count": 210,
     "metadata": {},
     "output_type": "execute_result"
    }
   ],
   "source": [
    "clf = joblib.load('left_right_clf.pkl')\n",
    "\n",
    "classify_left_right(outlet_text['Radio-Canada'], clf=clf)"
   ]
  },
  {
   "cell_type": "markdown",
   "metadata": {},
   "source": [
    "## Extract left/right score for chosen articles\n",
    "\n",
    "For the purpose of demonstrating our pipeline, we have pre-selected 5 relevant articles. Run the classification pipeline on these files here."
   ]
  },
  {
   "cell_type": "code",
   "execution_count": 287,
   "metadata": {},
   "outputs": [],
   "source": [
    "outlets = '/home/hubert/Documents/kesseca/data/five_articles/final/1090978.json'\n",
    "\n",
    "with open(outlets, 'r') as f:\n",
    "    articles = json.load(f)"
   ]
  },
  {
   "cell_type": "code",
   "execution_count": 288,
   "metadata": {},
   "outputs": [
    {
     "data": {
      "text/html": [
       "<div>\n",
       "<style scoped>\n",
       "    .dataframe tbody tr th:only-of-type {\n",
       "        vertical-align: middle;\n",
       "    }\n",
       "\n",
       "    .dataframe tbody tr th {\n",
       "        vertical-align: top;\n",
       "    }\n",
       "\n",
       "    .dataframe thead th {\n",
       "        text-align: right;\n",
       "    }\n",
       "</style>\n",
       "<table border=\"1\" class=\"dataframe\">\n",
       "  <thead>\n",
       "    <tr style=\"text-align: right;\">\n",
       "      <th></th>\n",
       "      <th>likes</th>\n",
       "      <th>outlet_bias</th>\n",
       "      <th>score</th>\n",
       "    </tr>\n",
       "  </thead>\n",
       "  <tbody>\n",
       "    <tr>\n",
       "      <th>ABC News</th>\n",
       "      <td>512.0</td>\n",
       "      <td>2.0</td>\n",
       "      <td>0.119110</td>\n",
       "    </tr>\n",
       "    <tr>\n",
       "      <th>Associated Press</th>\n",
       "      <td>0.0</td>\n",
       "      <td>3.0</td>\n",
       "      <td>0.339167</td>\n",
       "    </tr>\n",
       "    <tr>\n",
       "      <th>Bloomberg</th>\n",
       "      <td>52.0</td>\n",
       "      <td>3.0</td>\n",
       "      <td>0.052177</td>\n",
       "    </tr>\n",
       "    <tr>\n",
       "      <th>CBN News</th>\n",
       "      <td>446.0</td>\n",
       "      <td>5.0</td>\n",
       "      <td>0.975541</td>\n",
       "    </tr>\n",
       "    <tr>\n",
       "      <th>CBS News</th>\n",
       "      <td>0.0</td>\n",
       "      <td>2.0</td>\n",
       "      <td>0.070764</td>\n",
       "    </tr>\n",
       "    <tr>\n",
       "      <th>CNN</th>\n",
       "      <td>0.0</td>\n",
       "      <td>3.0</td>\n",
       "      <td>0.008703</td>\n",
       "    </tr>\n",
       "    <tr>\n",
       "      <th>Daily Beast</th>\n",
       "      <td>292.0</td>\n",
       "      <td>1.0</td>\n",
       "      <td>0.053360</td>\n",
       "    </tr>\n",
       "    <tr>\n",
       "      <th>Fox News</th>\n",
       "      <td>0.0</td>\n",
       "      <td>4.0</td>\n",
       "      <td>0.170117</td>\n",
       "    </tr>\n",
       "    <tr>\n",
       "      <th>NPR</th>\n",
       "      <td>0.0</td>\n",
       "      <td>3.0</td>\n",
       "      <td>0.273017</td>\n",
       "    </tr>\n",
       "    <tr>\n",
       "      <th>Politico</th>\n",
       "      <td>1334.0</td>\n",
       "      <td>2.0</td>\n",
       "      <td>0.011052</td>\n",
       "    </tr>\n",
       "    <tr>\n",
       "      <th>Reuters</th>\n",
       "      <td>0.0</td>\n",
       "      <td>3.0</td>\n",
       "      <td>0.156826</td>\n",
       "    </tr>\n",
       "    <tr>\n",
       "      <th>Salon</th>\n",
       "      <td>621.0</td>\n",
       "      <td>1.0</td>\n",
       "      <td>0.117773</td>\n",
       "    </tr>\n",
       "    <tr>\n",
       "      <th>The Guardian</th>\n",
       "      <td>14.0</td>\n",
       "      <td>2.0</td>\n",
       "      <td>0.110981</td>\n",
       "    </tr>\n",
       "    <tr>\n",
       "      <th>The New York Times</th>\n",
       "      <td>426.0</td>\n",
       "      <td>2.0</td>\n",
       "      <td>0.004009</td>\n",
       "    </tr>\n",
       "    <tr>\n",
       "      <th>The Washington Post</th>\n",
       "      <td>712.0</td>\n",
       "      <td>2.0</td>\n",
       "      <td>0.041152</td>\n",
       "    </tr>\n",
       "    <tr>\n",
       "      <th>The Washington Times</th>\n",
       "      <td>839.0</td>\n",
       "      <td>5.0</td>\n",
       "      <td>0.940063</td>\n",
       "    </tr>\n",
       "    <tr>\n",
       "      <th>USA Today</th>\n",
       "      <td>0.0</td>\n",
       "      <td>3.0</td>\n",
       "      <td>0.083880</td>\n",
       "    </tr>\n",
       "    <tr>\n",
       "      <th>Wall Street Journal</th>\n",
       "      <td>137.0</td>\n",
       "      <td>3.0</td>\n",
       "      <td>0.264062</td>\n",
       "    </tr>\n",
       "  </tbody>\n",
       "</table>\n",
       "</div>"
      ],
      "text/plain": [
       "                       likes  outlet_bias     score\n",
       "ABC News               512.0          2.0  0.119110\n",
       "Associated Press         0.0          3.0  0.339167\n",
       "Bloomberg               52.0          3.0  0.052177\n",
       "CBN News               446.0          5.0  0.975541\n",
       "CBS News                 0.0          2.0  0.070764\n",
       "CNN                      0.0          3.0  0.008703\n",
       "Daily Beast            292.0          1.0  0.053360\n",
       "Fox News                 0.0          4.0  0.170117\n",
       "NPR                      0.0          3.0  0.273017\n",
       "Politico              1334.0          2.0  0.011052\n",
       "Reuters                  0.0          3.0  0.156826\n",
       "Salon                  621.0          1.0  0.117773\n",
       "The Guardian            14.0          2.0  0.110981\n",
       "The New York Times     426.0          2.0  0.004009\n",
       "The Washington Post    712.0          2.0  0.041152\n",
       "The Washington Times   839.0          5.0  0.940063\n",
       "USA Today                0.0          3.0  0.083880\n",
       "Wall Street Journal    137.0          3.0  0.264062"
      ]
     },
     "execution_count": 288,
     "metadata": {},
     "output_type": "execute_result"
    }
   ],
   "source": [
    "scores = {}\n",
    "\n",
    "for key, value in articles.items():\n",
    "    scores[key] = {'score': classify_left_right(value['body'], clf=clf)[0],\n",
    "                   'outlet_bias': value['bias'], \n",
    "                   'likes': value['facebook_likes']}\n",
    "    \n",
    "scores_df = pd.DataFrame(scores).T\n",
    "scores_df"
   ]
  },
  {
   "cell_type": "code",
   "execution_count": 289,
   "metadata": {},
   "outputs": [
    {
     "data": {
      "text/plain": [
       "<matplotlib.axes._subplots.AxesSubplot at 0x7fd144f5f160>"
      ]
     },
     "execution_count": 289,
     "metadata": {},
     "output_type": "execute_result"
    },
    {
     "data": {
      "image/png": "[encoded data removed]",
      "text/plain": [
       "<Figure size 432x288 with 1 Axes>"
      ]
     },
     "metadata": {},
     "output_type": "display_data"
    }
   ],
   "source": [
    "sns.regplot(scores_df['score'], scores_df['outlet_bias'])"
   ]
  },
  {
   "cell_type": "code",
   "execution_count": 290,
   "metadata": {},
   "outputs": [
    {
     "name": "stdout",
     "output_type": "stream",
     "text": [
      "1090978.json\n",
      "{\"ABC News\":0.1191098028,\"Associated Press\":0.3391670377,\"Bloomberg\":0.0521774977,\"CBN News\":0.9755410465,\"CBS News\":0.0707641476,\"CNN\":0.0087029954,\"Daily Beast\":0.0533597547,\"Fox News\":0.1701170115,\"NPR\":0.2730174199,\"Politico\":0.011051628,\"Reuters\":0.1568263296,\"Salon\":0.1177729457,\"The Guardian\":0.110981112,\"The New York Times\":0.0040089906,\"The Washington Post\":0.0411515566,\"The Washington Times\":0.9400633793,\"USA Today\":0.0838795999,\"Wall Street Journal\":0.2640618141}\n"
     ]
    }
   ],
   "source": [
    "print(outlets.split('/')[-1])\n",
    "print(scores_df['score'].to_json())"
   ]
  },
  {
   "cell_type": "code",
   "execution_count": 291,
   "metadata": {},
   "outputs": [],
   "source": [
    "# Add the new value back into the initial dictionary\n",
    "out_articles = articles\n",
    "\n",
    "for key, value in articles.items():\n",
    "    articles[key]['left_right_score'] = scores_df.loc[key, 'score']\n",
    "    \n",
    "with open(outlets, 'w') as outfile:\n",
    "    json.dump(articles, outfile)"
   ]
  },
  {
   "cell_type": "markdown",
   "metadata": {},
   "source": [
    "## Try t-SNE again?"
   ]
  },
  {
   "cell_type": "code",
   "execution_count": 300,
   "metadata": {},
   "outputs": [],
   "source": [
    "# Get the data\n",
    "outlets_file = '/home/hubert/Documents/kesseca/data/five_articles/final/1090978.json'\n",
    "\n",
    "with open(outlets_file, 'r') as f:\n",
    "    articles = json.load(f)\n",
    "    \n",
    "outlets = []\n",
    "texts = []\n",
    "scores = []\n",
    "outlet_biases = []\n",
    "likes = []\n",
    "for key, value in articles.items():\n",
    "    outlets.append(key)\n",
    "    texts.append(value['body'])\n",
    "    scores.append(classify_left_right(value['body'], clf=clf)[0])\n",
    "    outlet_biases.append(value['bias'])\n",
    "    likes.append(value['facebook_likes'])"
   ]
  },
  {
   "cell_type": "code",
   "execution_count": 304,
   "metadata": {},
   "outputs": [
    {
     "name": "stdout",
     "output_type": "stream",
     "text": [
      "[t-SNE] Computing 17 nearest neighbors...\n",
      "[t-SNE] Indexed 18 samples in 0.000s...\n",
      "[t-SNE] Computed neighbors for 18 samples in 0.002s...\n",
      "[t-SNE] Computed conditional probabilities for sample 18 / 18\n",
      "[t-SNE] Mean sigma: 0.166181\n",
      "[t-SNE] KL divergence after 250 iterations with early exaggeration: 44.482689\n",
      "[t-SNE] Error after 850 iterations: 0.119129\n"
     ]
    }
   ],
   "source": [
    "from sklearn.manifold import TSNE\n",
    "from sklearn.preprocessing import FunctionTransformer\n",
    "\n",
    "tsne_pipe = Pipeline([('vect', text.CountVectorizer(stop_words='english', ngram_range=(1, 2))),\n",
    "                      ('tfidf', text.TfidfTransformer(sublinear_tf=True)),\n",
    "                      ('todense', FunctionTransformer(lambda x: x.todense(), accept_sparse=True)),\n",
    "                      ('tsne', TSNE(n_components=2, verbose=1, random_state=0, angle=0.5, init='pca',\n",
    "                                    perplexity=10, learning_rate=10))])\n",
    "\n",
    "coords = tsne_pipe.fit_transform(texts)"
   ]
  },
  {
   "cell_type": "code",
   "execution_count": 312,
   "metadata": {},
   "outputs": [
    {
     "data": {
      "text/plain": [
       "<matplotlib.collections.PathCollection at 0x7fd15765f518>"
      ]
     },
     "execution_count": 312,
     "metadata": {},
     "output_type": "execute_result"
    },
    {
     "data": {
      "image/png": "[encoded data removed]",
      "text/plain": [
       "<Figure size 432x288 with 1 Axes>"
      ]
     },
     "metadata": {},
     "output_type": "display_data"
    }
   ],
   "source": [
    "fig, ax = plt.subplots()\n",
    "ax.scatter(coords[:, 0], coords[:, 1], s=np.array(likes)+10, c=scores)"
   ]
  },
  {
   "cell_type": "markdown",
   "metadata": {},
   "source": [
    "Although the plot doesn't look too bad, there are not enough points in the visualization to infer any useful clustering/relationship/patterns in the data. This would probably be more confusing then anything given that we only have a few minutes to present...\n",
    "\n",
    "Let's aim for something simpler, like a 1D graph."
   ]
  },
  {
   "cell_type": "code",
   "execution_count": 346,
   "metadata": {},
   "outputs": [
    {
     "data": {
      "image/png": "[encoded data removed]",
      "text/plain": [
       "<Figure size 720x72 with 1 Axes>"
      ]
     },
     "metadata": {},
     "output_type": "display_data"
    }
   ],
   "source": [
    "log_likes = np.log10(np.array(likes) + 10)\n",
    "log_likes = (log_likes - 1) / (log_likes.max() - log_likes.min())\n",
    "\n",
    "fig, ax = plt.subplots(figsize=(10, 1))\n",
    "for s, l in zip(scores, log_likes):\n",
    "    ax.axvline(s, ymin=0, ymax=l)\n",
    "# ax.scatter(scores, np.log10(np.array(likes) + 10), marker='|')"
   ]
  }
 ],
 "metadata": {
  "kernelspec": {
   "display_name": "Python 3",
   "language": "python",
   "name": "python3"
  },
  "language_info": {
   "codemirror_mode": {
    "name": "ipython",
    "version": 3
   },
   "file_extension": ".py",
   "mimetype": "text/x-python",
   "name": "python",
   "nbconvert_exporter": "python",
   "pygments_lexer": "ipython3",
   "version": "3.5.1"
  }
 },
 "nbformat": 4,
 "nbformat_minor": 2
}
